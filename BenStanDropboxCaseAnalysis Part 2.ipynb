{
 "cells": [
  {
   "cell_type": "code",
   "execution_count": 1,
   "metadata": {
    "collapsed": false
   },
   "outputs": [],
   "source": [
    "import pandas as pd\n",
    "import numpy as np\n",
    "import matplotlib.pyplot as plt\n",
    "%matplotlib inline\n",
    "pd.set_option('display.max_columns', None)\n",
    "from pandas.io import sql\n",
    "import sqlite3"
   ]
  },
  {
   "cell_type": "code",
   "execution_count": 2,
   "metadata": {
    "collapsed": true
   },
   "outputs": [],
   "source": [
    "reviews_df = pd.read_csv(\"/Users/benstan/Documents/Job Search 2016/dropbox_case/charlotte_review.csv\")\n",
    "people_df = pd.read_csv(\"/Users/benstan/Documents/Job Search 2016/dropbox_case/charlotte_reviewer.csv\")\n",
    "biz_df = pd.read_csv(\"/Users/benstan/Documents/Job Search 2016/dropbox_case/charlotte_business.csv\")\n",
    "YelpData = pd.read_csv(\"/Users/benstan/Documents/Job Search 2016/dropbox_case/charlotte_data_joined.csv\")"
   ]
  },
  {
   "cell_type": "markdown",
   "metadata": {},
   "source": [
    "### Step 1: Descriptive analysis of business data"
   ]
  },
  {
   "cell_type": "code",
   "execution_count": 3,
   "metadata": {
    "collapsed": false
   },
   "outputs": [
    {
     "data": {
      "text/html": [
       "<div>\n",
       "<table border=\"1\" class=\"dataframe\">\n",
       "  <thead>\n",
       "    <tr style=\"text-align: right;\">\n",
       "      <th></th>\n",
       "      <th>business_latitude</th>\n",
       "      <th>business_longitude</th>\n",
       "      <th>business_review_count</th>\n",
       "      <th>business_stars</th>\n",
       "      <th>business_PriceRange</th>\n",
       "    </tr>\n",
       "  </thead>\n",
       "  <tbody>\n",
       "    <tr>\n",
       "      <th>count</th>\n",
       "      <td>1381.000000</td>\n",
       "      <td>1381.000000</td>\n",
       "      <td>1381.000000</td>\n",
       "      <td>1381.000000</td>\n",
       "      <td>1318.000000</td>\n",
       "    </tr>\n",
       "    <tr>\n",
       "      <th>mean</th>\n",
       "      <td>35.195905</td>\n",
       "      <td>-80.833642</td>\n",
       "      <td>41.797972</td>\n",
       "      <td>3.455105</td>\n",
       "      <td>1.536419</td>\n",
       "    </tr>\n",
       "    <tr>\n",
       "      <th>std</th>\n",
       "      <td>0.079646</td>\n",
       "      <td>0.060150</td>\n",
       "      <td>60.637403</td>\n",
       "      <td>0.704909</td>\n",
       "      <td>0.585676</td>\n",
       "    </tr>\n",
       "    <tr>\n",
       "      <th>min</th>\n",
       "      <td>35.022629</td>\n",
       "      <td>-81.005212</td>\n",
       "      <td>3.000000</td>\n",
       "      <td>1.000000</td>\n",
       "      <td>1.000000</td>\n",
       "    </tr>\n",
       "    <tr>\n",
       "      <th>25%</th>\n",
       "      <td>35.145939</td>\n",
       "      <td>-80.858623</td>\n",
       "      <td>8.000000</td>\n",
       "      <td>3.000000</td>\n",
       "      <td>1.000000</td>\n",
       "    </tr>\n",
       "    <tr>\n",
       "      <th>50%</th>\n",
       "      <td>35.207797</td>\n",
       "      <td>-80.841644</td>\n",
       "      <td>19.000000</td>\n",
       "      <td>3.500000</td>\n",
       "      <td>1.000000</td>\n",
       "    </tr>\n",
       "    <tr>\n",
       "      <th>75%</th>\n",
       "      <td>35.229054</td>\n",
       "      <td>-80.795903</td>\n",
       "      <td>51.000000</td>\n",
       "      <td>4.000000</td>\n",
       "      <td>2.000000</td>\n",
       "    </tr>\n",
       "    <tr>\n",
       "      <th>max</th>\n",
       "      <td>35.384064</td>\n",
       "      <td>-80.654628</td>\n",
       "      <td>762.000000</td>\n",
       "      <td>5.000000</td>\n",
       "      <td>4.000000</td>\n",
       "    </tr>\n",
       "  </tbody>\n",
       "</table>\n",
       "</div>"
      ],
      "text/plain": [
       "       business_latitude  business_longitude  business_review_count  \\\n",
       "count        1381.000000         1381.000000            1381.000000   \n",
       "mean           35.195905          -80.833642              41.797972   \n",
       "std             0.079646            0.060150              60.637403   \n",
       "min            35.022629          -81.005212               3.000000   \n",
       "25%            35.145939          -80.858623               8.000000   \n",
       "50%            35.207797          -80.841644              19.000000   \n",
       "75%            35.229054          -80.795903              51.000000   \n",
       "max            35.384064          -80.654628             762.000000   \n",
       "\n",
       "       business_stars  business_PriceRange  \n",
       "count     1381.000000          1318.000000  \n",
       "mean         3.455105             1.536419  \n",
       "std          0.704909             0.585676  \n",
       "min          1.000000             1.000000  \n",
       "25%          3.000000             1.000000  \n",
       "50%          3.500000             1.000000  \n",
       "75%          4.000000             2.000000  \n",
       "max          5.000000             4.000000  "
      ]
     },
     "execution_count": 3,
     "metadata": {},
     "output_type": "execute_result"
    }
   ],
   "source": [
    "biz_df.describe()"
   ]
  },
  {
   "cell_type": "code",
   "execution_count": 4,
   "metadata": {
    "collapsed": false
   },
   "outputs": [
    {
     "name": "stdout",
     "output_type": "stream",
     "text": [
      "(1381, 23)\n"
     ]
    },
    {
     "data": {
      "text/html": [
       "<div>\n",
       "<table border=\"1\" class=\"dataframe\">\n",
       "  <thead>\n",
       "    <tr style=\"text-align: right;\">\n",
       "      <th></th>\n",
       "      <th>business_city</th>\n",
       "      <th>business_full_address</th>\n",
       "      <th>business_latitude</th>\n",
       "      <th>business_longitude</th>\n",
       "      <th>business_name</th>\n",
       "      <th>business_review_count</th>\n",
       "      <th>business_stars</th>\n",
       "      <th>business_state</th>\n",
       "      <th>business_Take-out</th>\n",
       "      <th>business_Alcohol</th>\n",
       "      <th>business_NoiseLevel</th>\n",
       "      <th>business_Attire</th>\n",
       "      <th>business_Delivery</th>\n",
       "      <th>business_HasTV</th>\n",
       "      <th>business_TakesReservations</th>\n",
       "      <th>business_WheelchairAccessible</th>\n",
       "      <th>business_WaiterService</th>\n",
       "      <th>business_AcceptsCreditCards</th>\n",
       "      <th>business_GoodforKids</th>\n",
       "      <th>business_GoodForGroups</th>\n",
       "      <th>business_PriceRange</th>\n",
       "      <th>business_categories</th>\n",
       "    </tr>\n",
       "    <tr>\n",
       "      <th>business_id</th>\n",
       "      <th></th>\n",
       "      <th></th>\n",
       "      <th></th>\n",
       "      <th></th>\n",
       "      <th></th>\n",
       "      <th></th>\n",
       "      <th></th>\n",
       "      <th></th>\n",
       "      <th></th>\n",
       "      <th></th>\n",
       "      <th></th>\n",
       "      <th></th>\n",
       "      <th></th>\n",
       "      <th></th>\n",
       "      <th></th>\n",
       "      <th></th>\n",
       "      <th></th>\n",
       "      <th></th>\n",
       "      <th></th>\n",
       "      <th></th>\n",
       "      <th></th>\n",
       "      <th></th>\n",
       "    </tr>\n",
       "  </thead>\n",
       "  <tbody>\n",
       "    <tr>\n",
       "      <th>Gw5POFxBRoJxN_ZYhk6lgQ</th>\n",
       "      <td>Charlotte</td>\n",
       "      <td>8706 Pineville-Matthews Road\\nSuite 100\\nCharl...</td>\n",
       "      <td>35.089035</td>\n",
       "      <td>-80.867055</td>\n",
       "      <td>Bruegger's Bagels</td>\n",
       "      <td>9</td>\n",
       "      <td>4.0</td>\n",
       "      <td>NC</td>\n",
       "      <td>True</td>\n",
       "      <td>none</td>\n",
       "      <td>average</td>\n",
       "      <td>casual</td>\n",
       "      <td>False</td>\n",
       "      <td>False</td>\n",
       "      <td>False</td>\n",
       "      <td>True</td>\n",
       "      <td>False</td>\n",
       "      <td>True</td>\n",
       "      <td>True</td>\n",
       "      <td>True</td>\n",
       "      <td>2</td>\n",
       "      <td>[Food, Sandwiches, Bagels, Breakfast &amp; Brunch,...</td>\n",
       "    </tr>\n",
       "    <tr>\n",
       "      <th>MMgjU4K0D9RLsb7BWEic4g</th>\n",
       "      <td>Charlotte</td>\n",
       "      <td>8510 Park Rd\\nCharlotte, NC 28210</td>\n",
       "      <td>35.117183</td>\n",
       "      <td>-80.857545</td>\n",
       "      <td>Domino's Pizza</td>\n",
       "      <td>4</td>\n",
       "      <td>4.5</td>\n",
       "      <td>NC</td>\n",
       "      <td>NaN</td>\n",
       "      <td>NaN</td>\n",
       "      <td>NaN</td>\n",
       "      <td>NaN</td>\n",
       "      <td>True</td>\n",
       "      <td>NaN</td>\n",
       "      <td>NaN</td>\n",
       "      <td>NaN</td>\n",
       "      <td>NaN</td>\n",
       "      <td>NaN</td>\n",
       "      <td>NaN</td>\n",
       "      <td>NaN</td>\n",
       "      <td>2</td>\n",
       "      <td>[Sandwiches, Pizza, Chicken Wings, Restaurants]</td>\n",
       "    </tr>\n",
       "    <tr>\n",
       "      <th>LT0AgHTpDifuHSXgyLmJwg</th>\n",
       "      <td>Charlotte</td>\n",
       "      <td>309 W 4th St\\nCharlotte, NC 28202</td>\n",
       "      <td>35.228193</td>\n",
       "      <td>-80.846592</td>\n",
       "      <td>Green's Lunch</td>\n",
       "      <td>32</td>\n",
       "      <td>3.5</td>\n",
       "      <td>NC</td>\n",
       "      <td>True</td>\n",
       "      <td>none</td>\n",
       "      <td>average</td>\n",
       "      <td>casual</td>\n",
       "      <td>False</td>\n",
       "      <td>False</td>\n",
       "      <td>False</td>\n",
       "      <td>True</td>\n",
       "      <td>False</td>\n",
       "      <td>True</td>\n",
       "      <td>True</td>\n",
       "      <td>True</td>\n",
       "      <td>1</td>\n",
       "      <td>[Hot Dogs, Restaurants]</td>\n",
       "    </tr>\n",
       "    <tr>\n",
       "      <th>USdRzNk14UdjZWFgBJb0wA</th>\n",
       "      <td>Charlotte</td>\n",
       "      <td>511 N Church St\\nFourth Ward\\nCharlotte, NC 28202</td>\n",
       "      <td>35.231684</td>\n",
       "      <td>-80.839638</td>\n",
       "      <td>McNinch House Restaurant</td>\n",
       "      <td>25</td>\n",
       "      <td>4.5</td>\n",
       "      <td>NC</td>\n",
       "      <td>False</td>\n",
       "      <td>full_bar</td>\n",
       "      <td>quiet</td>\n",
       "      <td>formal</td>\n",
       "      <td>False</td>\n",
       "      <td>False</td>\n",
       "      <td>True</td>\n",
       "      <td>NaN</td>\n",
       "      <td>True</td>\n",
       "      <td>True</td>\n",
       "      <td>False</td>\n",
       "      <td>False</td>\n",
       "      <td>4</td>\n",
       "      <td>[American (New), Southern, French, Restaurants]</td>\n",
       "    </tr>\n",
       "    <tr>\n",
       "      <th>ePP0Eqz8JKSbtdt2phiB4A</th>\n",
       "      <td>Charlotte</td>\n",
       "      <td>401 W 9th St\\nFourth Ward\\nCharlotte, NC 28202</td>\n",
       "      <td>35.233610</td>\n",
       "      <td>-80.840783</td>\n",
       "      <td>Alexander Michael's</td>\n",
       "      <td>175</td>\n",
       "      <td>4.0</td>\n",
       "      <td>NC</td>\n",
       "      <td>True</td>\n",
       "      <td>full_bar</td>\n",
       "      <td>average</td>\n",
       "      <td>casual</td>\n",
       "      <td>False</td>\n",
       "      <td>True</td>\n",
       "      <td>False</td>\n",
       "      <td>False</td>\n",
       "      <td>True</td>\n",
       "      <td>True</td>\n",
       "      <td>False</td>\n",
       "      <td>True</td>\n",
       "      <td>2</td>\n",
       "      <td>[Cajun/Creole, American (Traditional), Bars, P...</td>\n",
       "    </tr>\n",
       "  </tbody>\n",
       "</table>\n",
       "</div>"
      ],
      "text/plain": [
       "                       business_city  \\\n",
       "business_id                            \n",
       "Gw5POFxBRoJxN_ZYhk6lgQ     Charlotte   \n",
       "MMgjU4K0D9RLsb7BWEic4g     Charlotte   \n",
       "LT0AgHTpDifuHSXgyLmJwg     Charlotte   \n",
       "USdRzNk14UdjZWFgBJb0wA     Charlotte   \n",
       "ePP0Eqz8JKSbtdt2phiB4A     Charlotte   \n",
       "\n",
       "                                                    business_full_address  \\\n",
       "business_id                                                                 \n",
       "Gw5POFxBRoJxN_ZYhk6lgQ  8706 Pineville-Matthews Road\\nSuite 100\\nCharl...   \n",
       "MMgjU4K0D9RLsb7BWEic4g                  8510 Park Rd\\nCharlotte, NC 28210   \n",
       "LT0AgHTpDifuHSXgyLmJwg                  309 W 4th St\\nCharlotte, NC 28202   \n",
       "USdRzNk14UdjZWFgBJb0wA  511 N Church St\\nFourth Ward\\nCharlotte, NC 28202   \n",
       "ePP0Eqz8JKSbtdt2phiB4A     401 W 9th St\\nFourth Ward\\nCharlotte, NC 28202   \n",
       "\n",
       "                        business_latitude  business_longitude  \\\n",
       "business_id                                                     \n",
       "Gw5POFxBRoJxN_ZYhk6lgQ          35.089035          -80.867055   \n",
       "MMgjU4K0D9RLsb7BWEic4g          35.117183          -80.857545   \n",
       "LT0AgHTpDifuHSXgyLmJwg          35.228193          -80.846592   \n",
       "USdRzNk14UdjZWFgBJb0wA          35.231684          -80.839638   \n",
       "ePP0Eqz8JKSbtdt2phiB4A          35.233610          -80.840783   \n",
       "\n",
       "                                   business_name  business_review_count  \\\n",
       "business_id                                                               \n",
       "Gw5POFxBRoJxN_ZYhk6lgQ         Bruegger's Bagels                      9   \n",
       "MMgjU4K0D9RLsb7BWEic4g            Domino's Pizza                      4   \n",
       "LT0AgHTpDifuHSXgyLmJwg             Green's Lunch                     32   \n",
       "USdRzNk14UdjZWFgBJb0wA  McNinch House Restaurant                     25   \n",
       "ePP0Eqz8JKSbtdt2phiB4A       Alexander Michael's                    175   \n",
       "\n",
       "                        business_stars business_state business_Take-out  \\\n",
       "business_id                                                               \n",
       "Gw5POFxBRoJxN_ZYhk6lgQ             4.0             NC              True   \n",
       "MMgjU4K0D9RLsb7BWEic4g             4.5             NC               NaN   \n",
       "LT0AgHTpDifuHSXgyLmJwg             3.5             NC              True   \n",
       "USdRzNk14UdjZWFgBJb0wA             4.5             NC             False   \n",
       "ePP0Eqz8JKSbtdt2phiB4A             4.0             NC              True   \n",
       "\n",
       "                       business_Alcohol business_NoiseLevel business_Attire  \\\n",
       "business_id                                                                   \n",
       "Gw5POFxBRoJxN_ZYhk6lgQ             none             average          casual   \n",
       "MMgjU4K0D9RLsb7BWEic4g              NaN                 NaN             NaN   \n",
       "LT0AgHTpDifuHSXgyLmJwg             none             average          casual   \n",
       "USdRzNk14UdjZWFgBJb0wA         full_bar               quiet          formal   \n",
       "ePP0Eqz8JKSbtdt2phiB4A         full_bar             average          casual   \n",
       "\n",
       "                       business_Delivery business_HasTV  \\\n",
       "business_id                                               \n",
       "Gw5POFxBRoJxN_ZYhk6lgQ             False          False   \n",
       "MMgjU4K0D9RLsb7BWEic4g              True            NaN   \n",
       "LT0AgHTpDifuHSXgyLmJwg             False          False   \n",
       "USdRzNk14UdjZWFgBJb0wA             False          False   \n",
       "ePP0Eqz8JKSbtdt2phiB4A             False           True   \n",
       "\n",
       "                       business_TakesReservations  \\\n",
       "business_id                                         \n",
       "Gw5POFxBRoJxN_ZYhk6lgQ                      False   \n",
       "MMgjU4K0D9RLsb7BWEic4g                        NaN   \n",
       "LT0AgHTpDifuHSXgyLmJwg                      False   \n",
       "USdRzNk14UdjZWFgBJb0wA                       True   \n",
       "ePP0Eqz8JKSbtdt2phiB4A                      False   \n",
       "\n",
       "                       business_WheelchairAccessible business_WaiterService  \\\n",
       "business_id                                                                   \n",
       "Gw5POFxBRoJxN_ZYhk6lgQ                          True                  False   \n",
       "MMgjU4K0D9RLsb7BWEic4g                           NaN                    NaN   \n",
       "LT0AgHTpDifuHSXgyLmJwg                          True                  False   \n",
       "USdRzNk14UdjZWFgBJb0wA                           NaN                   True   \n",
       "ePP0Eqz8JKSbtdt2phiB4A                         False                   True   \n",
       "\n",
       "                       business_AcceptsCreditCards business_GoodforKids  \\\n",
       "business_id                                                               \n",
       "Gw5POFxBRoJxN_ZYhk6lgQ                        True                 True   \n",
       "MMgjU4K0D9RLsb7BWEic4g                         NaN                  NaN   \n",
       "LT0AgHTpDifuHSXgyLmJwg                        True                 True   \n",
       "USdRzNk14UdjZWFgBJb0wA                        True                False   \n",
       "ePP0Eqz8JKSbtdt2phiB4A                        True                False   \n",
       "\n",
       "                       business_GoodForGroups  business_PriceRange  \\\n",
       "business_id                                                          \n",
       "Gw5POFxBRoJxN_ZYhk6lgQ                   True                    2   \n",
       "MMgjU4K0D9RLsb7BWEic4g                    NaN                    2   \n",
       "LT0AgHTpDifuHSXgyLmJwg                   True                    1   \n",
       "USdRzNk14UdjZWFgBJb0wA                  False                    4   \n",
       "ePP0Eqz8JKSbtdt2phiB4A                   True                    2   \n",
       "\n",
       "                                                      business_categories  \n",
       "business_id                                                                \n",
       "Gw5POFxBRoJxN_ZYhk6lgQ  [Food, Sandwiches, Bagels, Breakfast & Brunch,...  \n",
       "MMgjU4K0D9RLsb7BWEic4g    [Sandwiches, Pizza, Chicken Wings, Restaurants]  \n",
       "LT0AgHTpDifuHSXgyLmJwg                            [Hot Dogs, Restaurants]  \n",
       "USdRzNk14UdjZWFgBJb0wA    [American (New), Southern, French, Restaurants]  \n",
       "ePP0Eqz8JKSbtdt2phiB4A  [Cajun/Creole, American (Traditional), Bars, P...  "
      ]
     },
     "execution_count": 4,
     "metadata": {},
     "output_type": "execute_result"
    }
   ],
   "source": [
    "print biz_df.shape\n",
    "biz_df.set_index('business_id',inplace=True)\n",
    "biz_df.head()"
   ]
  },
  {
   "cell_type": "code",
   "execution_count": 5,
   "metadata": {
    "collapsed": false
   },
   "outputs": [
    {
     "data": {
      "text/plain": [
       "business_city                      0\n",
       "business_full_address              0\n",
       "business_latitude                  0\n",
       "business_longitude                 0\n",
       "business_name                      0\n",
       "business_review_count              0\n",
       "business_stars                     0\n",
       "business_state                     0\n",
       "business_Take-out                 55\n",
       "business_Alcohol                 187\n",
       "business_NoiseLevel              209\n",
       "business_Attire                   78\n",
       "business_Delivery                 89\n",
       "business_HasTV                   142\n",
       "business_TakesReservations        71\n",
       "business_WheelchairAccessible    677\n",
       "business_WaiterService           160\n",
       "business_AcceptsCreditCards       59\n",
       "business_GoodforKids              72\n",
       "business_GoodForGroups            65\n",
       "business_PriceRange               63\n",
       "business_categories                0\n",
       "dtype: int64"
      ]
     },
     "execution_count": 5,
     "metadata": {},
     "output_type": "execute_result"
    }
   ],
   "source": [
    "biz_df.isnull().sum() #Many null values in the 'additional details' fields for the restaurants"
   ]
  },
  {
   "cell_type": "code",
   "execution_count": 6,
   "metadata": {
    "collapsed": false
   },
   "outputs": [
    {
     "data": {
      "text/plain": [
       "(635, 22)"
      ]
     },
     "execution_count": 6,
     "metadata": {},
     "output_type": "execute_result"
    }
   ],
   "source": [
    "biz_df.dropna().shape # Over half of the data set has a null value"
   ]
  },
  {
   "cell_type": "code",
   "execution_count": 8,
   "metadata": {
    "collapsed": false
   },
   "outputs": [
    {
     "data": {
      "text/plain": [
       "<matplotlib.colorbar.Colorbar at 0x11298e210>"
      ]
     },
     "execution_count": 8,
     "metadata": {},
     "output_type": "execute_result"
    },
    {
     "data": {
      "image/png": "[encoded data removed]",
      "text/plain": [
       "<matplotlib.figure.Figure at 0x11066aa50>"
      ]
     },
     "metadata": {},
     "output_type": "display_data"
    }
   ],
   "source": [
    "plt.scatter(biz_df['business_longitude'],biz_df['business_latitude'],c=biz_df['business_stars'])\n",
    "plt.colorbar()"
   ]
  },
  {
   "cell_type": "code",
   "execution_count": 9,
   "metadata": {
    "collapsed": false
   },
   "outputs": [
    {
     "data": {
      "text/plain": [
       "<matplotlib.axes._subplots.AxesSubplot at 0x1129ad310>"
      ]
     },
     "execution_count": 9,
     "metadata": {},
     "output_type": "execute_result"
    },
    {
     "data": {
      "image/png": "[encoded data removed]",
      "text/plain": [
       "<matplotlib.figure.Figure at 0x112784390>"
      ]
     },
     "metadata": {},
     "output_type": "display_data"
    }
   ],
   "source": [
    "biz_df['business_stars'].hist(bins=9)"
   ]
  },
  {
   "cell_type": "code",
   "execution_count": 10,
   "metadata": {
    "collapsed": false
   },
   "outputs": [],
   "source": [
    "start_date_yelp = reviews_df[[\"business_id\",\"review_date\"]].groupby(\"business_id\").min().copy()"
   ]
  },
  {
   "cell_type": "code",
   "execution_count": 11,
   "metadata": {
    "collapsed": false
   },
   "outputs": [],
   "source": [
    "biz_df = biz_df.join(start_date_yelp)\n",
    "biz_df['on_yelp_since'] = pd.to_datetime(biz_df['review_date'])\n",
    "biz_df['current_date']=pd.to_datetime(\"2015-01-08\") #Date of latest review\n",
    "biz_df['months_on_yelp'] = ((biz_df['current_date'] - biz_df['on_yelp_since'])/np.timedelta64(1, 'M')).astype(float)\n",
    "biz_df['reviews_per_month'] = biz_df['business_review_count']/biz_df['months_on_yelp']"
   ]
  },
  {
   "cell_type": "code",
   "execution_count": 12,
   "metadata": {
    "collapsed": false
   },
   "outputs": [],
   "source": [
    "for i in ['current_date','on_yelp_since','review_date']:\n",
    "    del biz_df[i]"
   ]
  },
  {
   "cell_type": "code",
   "execution_count": 13,
   "metadata": {
    "collapsed": false
   },
   "outputs": [],
   "source": [
    "biz_df['reviews_per_year'] = biz_df['reviews_per_month']*12"
   ]
  },
  {
   "cell_type": "code",
   "execution_count": 14,
   "metadata": {
    "collapsed": false
   },
   "outputs": [
    {
     "data": {
      "text/plain": [
       "<matplotlib.text.Text at 0x1121096d0>"
      ]
     },
     "execution_count": 14,
     "metadata": {},
     "output_type": "execute_result"
    },
    {
     "data": {
      "image/png": "[encoded data removed]",
      "text/plain": [
       "<matplotlib.figure.Figure at 0x110b189d0>"
      ]
     },
     "metadata": {},
     "output_type": "display_data"
    }
   ],
   "source": [
    "months_hist = biz_df['months_on_yelp'].hist()\n",
    "months_hist.set_xlabel('Months on Yelp')\n",
    "months_hist.set_ylabel('Number of Restaurants')\n",
    "months_hist.set_title('Number of Restaurants by Time on Yelp')"
   ]
  },
  {
   "cell_type": "code",
   "execution_count": 71,
   "metadata": {
    "collapsed": false
   },
   "outputs": [
    {
     "data": {
      "text/plain": [
       "<matplotlib.text.Text at 0x12602dfd0>"
      ]
     },
     "execution_count": 71,
     "metadata": {},
     "output_type": "execute_result"
    },
    {
     "data": {
      "image/png": "[encoded data removed]",
      "text/plain": [
       "<matplotlib.figure.Figure at 0x125b1f250>"
      ]
     },
     "metadata": {},
     "output_type": "display_data"
    }
   ],
   "source": [
    "review_hist = biz_df['reviews_per_month'].hist(bins=100)\n",
    "review_hist.set_xlabel('Reviews per Month')\n",
    "review_hist.set_ylabel('Number of Restaurants')\n",
    "review_hist.set_title('Number of Restaurants by Reviews per Month')"
   ]
  },
  {
   "cell_type": "code",
   "execution_count": 46,
   "metadata": {
    "collapsed": false
   },
   "outputs": [
    {
     "data": {
      "text/plain": [
       "<matplotlib.axes._subplots.AxesSubplot at 0x11e7ff6d0>"
      ]
     },
     "execution_count": 46,
     "metadata": {},
     "output_type": "execute_result"
    },
    {
     "data": {
      "image/png": "[encoded data removed]",
      "text/plain": [
       "<matplotlib.figure.Figure at 0x11e509a50>"
      ]
     },
     "metadata": {},
     "output_type": "display_data"
    }
   ],
   "source": [
    "biz_df['reviews_per_year'].plot(kind='box')"
   ]
  },
  {
   "cell_type": "code",
   "execution_count": 38,
   "metadata": {
    "collapsed": false
   },
   "outputs": [
    {
     "data": {
      "text/html": [
       "<div>\n",
       "<table border=\"1\" class=\"dataframe\">\n",
       "  <thead>\n",
       "    <tr style=\"text-align: right;\">\n",
       "      <th></th>\n",
       "      <th>business_latitude</th>\n",
       "      <th>business_longitude</th>\n",
       "      <th>business_review_count</th>\n",
       "      <th>business_stars</th>\n",
       "      <th>business_PriceRange</th>\n",
       "      <th>months_on_yelp</th>\n",
       "      <th>reviews_per_month</th>\n",
       "      <th>reviews_per_year</th>\n",
       "    </tr>\n",
       "  </thead>\n",
       "  <tbody>\n",
       "    <tr>\n",
       "      <th>business_latitude</th>\n",
       "      <td>1.000000</td>\n",
       "      <td>0.215515</td>\n",
       "      <td>-0.013811</td>\n",
       "      <td>-0.003709</td>\n",
       "      <td>-0.065143</td>\n",
       "      <td>0.006550</td>\n",
       "      <td>-0.026434</td>\n",
       "      <td>-0.026434</td>\n",
       "    </tr>\n",
       "    <tr>\n",
       "      <th>business_longitude</th>\n",
       "      <td>0.215515</td>\n",
       "      <td>1.000000</td>\n",
       "      <td>-0.019010</td>\n",
       "      <td>0.063476</td>\n",
       "      <td>0.015303</td>\n",
       "      <td>0.054817</td>\n",
       "      <td>-0.016773</td>\n",
       "      <td>-0.016773</td>\n",
       "    </tr>\n",
       "    <tr>\n",
       "      <th>business_review_count</th>\n",
       "      <td>-0.013811</td>\n",
       "      <td>-0.019010</td>\n",
       "      <td>1.000000</td>\n",
       "      <td>0.235096</td>\n",
       "      <td>0.338611</td>\n",
       "      <td>0.283568</td>\n",
       "      <td>0.522382</td>\n",
       "      <td>0.522382</td>\n",
       "    </tr>\n",
       "    <tr>\n",
       "      <th>business_stars</th>\n",
       "      <td>-0.003709</td>\n",
       "      <td>0.063476</td>\n",
       "      <td>0.235096</td>\n",
       "      <td>1.000000</td>\n",
       "      <td>0.084705</td>\n",
       "      <td>0.029359</td>\n",
       "      <td>0.198368</td>\n",
       "      <td>0.198368</td>\n",
       "    </tr>\n",
       "    <tr>\n",
       "      <th>business_PriceRange</th>\n",
       "      <td>-0.065143</td>\n",
       "      <td>0.015303</td>\n",
       "      <td>0.338611</td>\n",
       "      <td>0.084705</td>\n",
       "      <td>1.000000</td>\n",
       "      <td>0.086388</td>\n",
       "      <td>0.276847</td>\n",
       "      <td>0.276847</td>\n",
       "    </tr>\n",
       "    <tr>\n",
       "      <th>months_on_yelp</th>\n",
       "      <td>0.006550</td>\n",
       "      <td>0.054817</td>\n",
       "      <td>0.283568</td>\n",
       "      <td>0.029359</td>\n",
       "      <td>0.086388</td>\n",
       "      <td>1.000000</td>\n",
       "      <td>-0.280122</td>\n",
       "      <td>-0.280122</td>\n",
       "    </tr>\n",
       "    <tr>\n",
       "      <th>reviews_per_month</th>\n",
       "      <td>-0.026434</td>\n",
       "      <td>-0.016773</td>\n",
       "      <td>0.522382</td>\n",
       "      <td>0.198368</td>\n",
       "      <td>0.276847</td>\n",
       "      <td>-0.280122</td>\n",
       "      <td>1.000000</td>\n",
       "      <td>1.000000</td>\n",
       "    </tr>\n",
       "    <tr>\n",
       "      <th>reviews_per_year</th>\n",
       "      <td>-0.026434</td>\n",
       "      <td>-0.016773</td>\n",
       "      <td>0.522382</td>\n",
       "      <td>0.198368</td>\n",
       "      <td>0.276847</td>\n",
       "      <td>-0.280122</td>\n",
       "      <td>1.000000</td>\n",
       "      <td>1.000000</td>\n",
       "    </tr>\n",
       "  </tbody>\n",
       "</table>\n",
       "</div>"
      ],
      "text/plain": [
       "                       business_latitude  business_longitude  \\\n",
       "business_latitude               1.000000            0.215515   \n",
       "business_longitude              0.215515            1.000000   \n",
       "business_review_count          -0.013811           -0.019010   \n",
       "business_stars                 -0.003709            0.063476   \n",
       "business_PriceRange            -0.065143            0.015303   \n",
       "months_on_yelp                  0.006550            0.054817   \n",
       "reviews_per_month              -0.026434           -0.016773   \n",
       "reviews_per_year               -0.026434           -0.016773   \n",
       "\n",
       "                       business_review_count  business_stars  \\\n",
       "business_latitude                  -0.013811       -0.003709   \n",
       "business_longitude                 -0.019010        0.063476   \n",
       "business_review_count               1.000000        0.235096   \n",
       "business_stars                      0.235096        1.000000   \n",
       "business_PriceRange                 0.338611        0.084705   \n",
       "months_on_yelp                      0.283568        0.029359   \n",
       "reviews_per_month                   0.522382        0.198368   \n",
       "reviews_per_year                    0.522382        0.198368   \n",
       "\n",
       "                       business_PriceRange  months_on_yelp  reviews_per_month  \\\n",
       "business_latitude                -0.065143        0.006550          -0.026434   \n",
       "business_longitude                0.015303        0.054817          -0.016773   \n",
       "business_review_count             0.338611        0.283568           0.522382   \n",
       "business_stars                    0.084705        0.029359           0.198368   \n",
       "business_PriceRange               1.000000        0.086388           0.276847   \n",
       "months_on_yelp                    0.086388        1.000000          -0.280122   \n",
       "reviews_per_month                 0.276847       -0.280122           1.000000   \n",
       "reviews_per_year                  0.276847       -0.280122           1.000000   \n",
       "\n",
       "                       reviews_per_year  \n",
       "business_latitude             -0.026434  \n",
       "business_longitude            -0.016773  \n",
       "business_review_count          0.522382  \n",
       "business_stars                 0.198368  \n",
       "business_PriceRange            0.276847  \n",
       "months_on_yelp                -0.280122  \n",
       "reviews_per_month              1.000000  \n",
       "reviews_per_year               1.000000  "
      ]
     },
     "execution_count": 38,
     "metadata": {},
     "output_type": "execute_result"
    }
   ],
   "source": [
    "biz_df.corr()"
   ]
  },
  {
   "cell_type": "code",
   "execution_count": 74,
   "metadata": {
    "collapsed": false
   },
   "outputs": [
    {
     "data": {
      "text/html": [
       "<div>\n",
       "<table border=\"1\" class=\"dataframe\">\n",
       "  <thead>\n",
       "    <tr style=\"text-align: right;\">\n",
       "      <th></th>\n",
       "      <th>business_latitude</th>\n",
       "      <th>business_longitude</th>\n",
       "      <th>business_review_count</th>\n",
       "      <th>business_stars</th>\n",
       "      <th>business_PriceRange</th>\n",
       "      <th>months_on_yelp</th>\n",
       "      <th>reviews_per_month</th>\n",
       "      <th>reviews_per_year</th>\n",
       "    </tr>\n",
       "  </thead>\n",
       "  <tbody>\n",
       "    <tr>\n",
       "      <th>count</th>\n",
       "      <td>1381.000000</td>\n",
       "      <td>1381.000000</td>\n",
       "      <td>1381.000000</td>\n",
       "      <td>1381.000000</td>\n",
       "      <td>1318.000000</td>\n",
       "      <td>1381.000000</td>\n",
       "      <td>1381.000000</td>\n",
       "      <td>1381.000000</td>\n",
       "    </tr>\n",
       "    <tr>\n",
       "      <th>mean</th>\n",
       "      <td>35.195905</td>\n",
       "      <td>-80.833642</td>\n",
       "      <td>41.797972</td>\n",
       "      <td>3.455105</td>\n",
       "      <td>1.536419</td>\n",
       "      <td>52.831843</td>\n",
       "      <td>1.057796</td>\n",
       "      <td>12.693548</td>\n",
       "    </tr>\n",
       "    <tr>\n",
       "      <th>std</th>\n",
       "      <td>0.079646</td>\n",
       "      <td>0.060150</td>\n",
       "      <td>60.637403</td>\n",
       "      <td>0.704909</td>\n",
       "      <td>0.585676</td>\n",
       "      <td>26.925504</td>\n",
       "      <td>1.869100</td>\n",
       "      <td>22.429199</td>\n",
       "    </tr>\n",
       "    <tr>\n",
       "      <th>min</th>\n",
       "      <td>35.022629</td>\n",
       "      <td>-81.005212</td>\n",
       "      <td>3.000000</td>\n",
       "      <td>1.000000</td>\n",
       "      <td>1.000000</td>\n",
       "      <td>0.328549</td>\n",
       "      <td>0.031443</td>\n",
       "      <td>0.377317</td>\n",
       "    </tr>\n",
       "    <tr>\n",
       "      <th>25%</th>\n",
       "      <td>35.145939</td>\n",
       "      <td>-80.858623</td>\n",
       "      <td>8.000000</td>\n",
       "      <td>3.000000</td>\n",
       "      <td>1.000000</td>\n",
       "      <td>31.606398</td>\n",
       "      <td>0.191427</td>\n",
       "      <td>2.297123</td>\n",
       "    </tr>\n",
       "    <tr>\n",
       "      <th>50%</th>\n",
       "      <td>35.207797</td>\n",
       "      <td>-80.841644</td>\n",
       "      <td>19.000000</td>\n",
       "      <td>3.500000</td>\n",
       "      <td>1.000000</td>\n",
       "      <td>51.746442</td>\n",
       "      <td>0.426353</td>\n",
       "      <td>5.116237</td>\n",
       "    </tr>\n",
       "    <tr>\n",
       "      <th>75%</th>\n",
       "      <td>35.229054</td>\n",
       "      <td>-80.795903</td>\n",
       "      <td>51.000000</td>\n",
       "      <td>4.000000</td>\n",
       "      <td>2.000000</td>\n",
       "      <td>75.040555</td>\n",
       "      <td>1.077139</td>\n",
       "      <td>12.925670</td>\n",
       "    </tr>\n",
       "    <tr>\n",
       "      <th>max</th>\n",
       "      <td>35.384064</td>\n",
       "      <td>-80.654628</td>\n",
       "      <td>762.000000</td>\n",
       "      <td>5.000000</td>\n",
       "      <td>4.000000</td>\n",
       "      <td>120.643134</td>\n",
       "      <td>18.292869</td>\n",
       "      <td>219.514432</td>\n",
       "    </tr>\n",
       "  </tbody>\n",
       "</table>\n",
       "</div>"
      ],
      "text/plain": [
       "       business_latitude  business_longitude  business_review_count  \\\n",
       "count        1381.000000         1381.000000            1381.000000   \n",
       "mean           35.195905          -80.833642              41.797972   \n",
       "std             0.079646            0.060150              60.637403   \n",
       "min            35.022629          -81.005212               3.000000   \n",
       "25%            35.145939          -80.858623               8.000000   \n",
       "50%            35.207797          -80.841644              19.000000   \n",
       "75%            35.229054          -80.795903              51.000000   \n",
       "max            35.384064          -80.654628             762.000000   \n",
       "\n",
       "       business_stars  business_PriceRange  months_on_yelp  reviews_per_month  \\\n",
       "count     1381.000000          1318.000000     1381.000000        1381.000000   \n",
       "mean         3.455105             1.536419       52.831843           1.057796   \n",
       "std          0.704909             0.585676       26.925504           1.869100   \n",
       "min          1.000000             1.000000        0.328549           0.031443   \n",
       "25%          3.000000             1.000000       31.606398           0.191427   \n",
       "50%          3.500000             1.000000       51.746442           0.426353   \n",
       "75%          4.000000             2.000000       75.040555           1.077139   \n",
       "max          5.000000             4.000000      120.643134          18.292869   \n",
       "\n",
       "       reviews_per_year  \n",
       "count       1381.000000  \n",
       "mean          12.693548  \n",
       "std           22.429199  \n",
       "min            0.377317  \n",
       "25%            2.297123  \n",
       "50%            5.116237  \n",
       "75%           12.925670  \n",
       "max          219.514432  "
      ]
     },
     "execution_count": 74,
     "metadata": {},
     "output_type": "execute_result"
    }
   ],
   "source": [
    "biz_df.describe()"
   ]
  },
  {
   "cell_type": "markdown",
   "metadata": {},
   "source": [
    "Slight correlation exists between number of stars and reviews per month (0.20) \n",
    "\n",
    "Correlation exists between price range and reviews per month (0.38)"
   ]
  },
  {
   "cell_type": "markdown",
   "metadata": {},
   "source": [
    "### Step 2: Perform regression on number of reviews per month"
   ]
  },
  {
   "cell_type": "code",
   "execution_count": 47,
   "metadata": {
    "collapsed": false
   },
   "outputs": [],
   "source": [
    "X = biz_df.dropna().copy()"
   ]
  },
  {
   "cell_type": "code",
   "execution_count": 48,
   "metadata": {
    "collapsed": true
   },
   "outputs": [],
   "source": [
    "Q1 = X['reviews_per_year'].quantile(.25)  #Here is first Quartilefor hp\n",
    "Q3 = X['reviews_per_year'].quantile(.75)  #Here is third Quartile for hp\n",
    "IQR = Q3 - Q1"
   ]
  },
  {
   "cell_type": "code",
   "execution_count": 49,
   "metadata": {
    "collapsed": true
   },
   "outputs": [],
   "source": [
    "X.drop(X[(X['reviews_per_year'] > Q3 + 1.5*IQR) |\n",
    "                     (X['reviews_per_year'] < Q1 - 1.5*IQR) ].index\n",
    "                        , inplace = True)\n",
    "y = X['reviews_per_year']\n",
    "del X['reviews_per_year']\n",
    "for i in ['business_full_address','business_latitude','business_longitude','business_name','business_state','business_categories','business_city','business_review_count','reviews_per_month']:\n",
    "    del X[i]"
   ]
  },
  {
   "cell_type": "code",
   "execution_count": 50,
   "metadata": {
    "collapsed": false
   },
   "outputs": [],
   "source": [
    "X['business_Take-out'] = X['business_Take-out'].map({True:1,False:0})\n",
    "X['business_Delivery'] = X['business_Delivery'].map({True:1,False:0})\n",
    "X['business_HasTV'] = X['business_HasTV'].map({True:1,False:0})\n",
    "X['business_TakesReservations'] = X['business_TakesReservations'].map({True:1,False:0})\n",
    "X['business_WaiterService'] = X['business_WaiterService'].map({True:1,False:0})\n",
    "X['business_WheelchairAccessible'] = X['business_WheelchairAccessible'].map({True:1,False:0})\n",
    "X['business_AcceptsCreditCards'] = X['business_AcceptsCreditCards'].map({True:1,False:0})\n",
    "X['business_GoodForGroups'] = X['business_GoodForGroups'].map({True:1,False:0})\n",
    "X['business_GoodforKids'] = X['business_GoodforKids'].map({True:1,False:0})"
   ]
  },
  {
   "cell_type": "code",
   "execution_count": 51,
   "metadata": {
    "collapsed": false
   },
   "outputs": [],
   "source": [
    "alc_dummies = pd.get_dummies(X['business_Alcohol'],prefix='alc')\n",
    "del alc_dummies['alc_none']\n",
    "noise_dummies = pd.get_dummies(X['business_NoiseLevel'],prefix='noise')\n",
    "del noise_dummies['noise_average']\n",
    "attire_dummies = pd.get_dummies(X['business_Attire'],prefix='attire')\n",
    "del attire_dummies['attire_casual']"
   ]
  },
  {
   "cell_type": "code",
   "execution_count": 52,
   "metadata": {
    "collapsed": false
   },
   "outputs": [],
   "source": [
    "X = pd.concat([X,alc_dummies,noise_dummies,attire_dummies],axis=1)\n",
    "del X['business_NoiseLevel']\n",
    "del X['business_Attire']\n",
    "del X['business_Alcohol']"
   ]
  },
  {
   "cell_type": "code",
   "execution_count": 55,
   "metadata": {
    "collapsed": false
   },
   "outputs": [
    {
     "data": {
      "text/plain": [
       "LinearRegression(copy_X=True, fit_intercept=True, n_jobs=1, normalize=False)"
      ]
     },
     "execution_count": 55,
     "metadata": {},
     "output_type": "execute_result"
    }
   ],
   "source": [
    "from sklearn import linear_model\n",
    "from sklearn.linear_model import LinearRegression\n",
    "linreg = LinearRegression()\n",
    "linreg.fit(X,y)"
   ]
  },
  {
   "cell_type": "code",
   "execution_count": 56,
   "metadata": {
    "collapsed": false
   },
   "outputs": [
    {
     "data": {
      "text/plain": [
       "0.34634990303554403"
      ]
     },
     "execution_count": 56,
     "metadata": {},
     "output_type": "execute_result"
    }
   ],
   "source": [
    "linreg.score(X,y)"
   ]
  },
  {
   "cell_type": "markdown",
   "metadata": {},
   "source": [
    "Linear regression attempt unsuccessful!"
   ]
  },
  {
   "cell_type": "markdown",
   "metadata": {},
   "source": [
    "### Step 3: Analyze reviewer data"
   ]
  },
  {
   "cell_type": "code",
   "execution_count": 103,
   "metadata": {
    "collapsed": false
   },
   "outputs": [
    {
     "name": "stdout",
     "output_type": "stream",
     "text": [
      "(16518, 17)\n"
     ]
    }
   ],
   "source": [
    "print people_df.shape"
   ]
  },
  {
   "cell_type": "code",
   "execution_count": 33,
   "metadata": {
    "collapsed": false
   },
   "outputs": [],
   "source": [
    "people_df['current_date']=pd.to_datetime(\"2015-01-08\") #Date of most recent review\n",
    "people_df['reviewer_yelper_since'] = pd.to_datetime(people_df['reviewer_yelper_since']+\"-01\")\n",
    "people_df['reviewer_months_as_yelper'] = ((people_df['current_date'] - people_df['reviewer_yelper_since'])/np.timedelta64(1, 'M')).astype(float)\n",
    "people_df['reviewer_reviews_per_month'] = people_df['reviewer_review_count']/people_df['reviewer_months_as_yelper']"
   ]
  },
  {
   "cell_type": "code",
   "execution_count": 36,
   "metadata": {
    "collapsed": false
   },
   "outputs": [
    {
     "data": {
      "text/html": [
       "<div>\n",
       "<table border=\"1\" class=\"dataframe\">\n",
       "  <thead>\n",
       "    <tr style=\"text-align: right;\">\n",
       "      <th></th>\n",
       "      <th>reviewer_average_stars</th>\n",
       "      <th>reviewer_fans</th>\n",
       "      <th>reviewer_review_count</th>\n",
       "      <th>reviewer_reviews_per_month</th>\n",
       "      <th>reviewer_num_friends</th>\n",
       "    </tr>\n",
       "  </thead>\n",
       "  <tbody>\n",
       "    <tr>\n",
       "      <th>reviewer_average_stars</th>\n",
       "      <td>1.000000</td>\n",
       "      <td>0.009239</td>\n",
       "      <td>0.004238</td>\n",
       "      <td>0.012546</td>\n",
       "      <td>0.015531</td>\n",
       "    </tr>\n",
       "    <tr>\n",
       "      <th>reviewer_fans</th>\n",
       "      <td>0.009239</td>\n",
       "      <td>1.000000</td>\n",
       "      <td>0.629753</td>\n",
       "      <td>0.480184</td>\n",
       "      <td>0.704764</td>\n",
       "    </tr>\n",
       "    <tr>\n",
       "      <th>reviewer_review_count</th>\n",
       "      <td>0.004238</td>\n",
       "      <td>0.629753</td>\n",
       "      <td>1.000000</td>\n",
       "      <td>0.838237</td>\n",
       "      <td>0.530486</td>\n",
       "    </tr>\n",
       "    <tr>\n",
       "      <th>reviewer_reviews_per_month</th>\n",
       "      <td>0.012546</td>\n",
       "      <td>0.480184</td>\n",
       "      <td>0.838237</td>\n",
       "      <td>1.000000</td>\n",
       "      <td>0.441160</td>\n",
       "    </tr>\n",
       "    <tr>\n",
       "      <th>reviewer_num_friends</th>\n",
       "      <td>0.015531</td>\n",
       "      <td>0.704764</td>\n",
       "      <td>0.530486</td>\n",
       "      <td>0.441160</td>\n",
       "      <td>1.000000</td>\n",
       "    </tr>\n",
       "  </tbody>\n",
       "</table>\n",
       "</div>"
      ],
      "text/plain": [
       "                            reviewer_average_stars  reviewer_fans  \\\n",
       "reviewer_average_stars                    1.000000       0.009239   \n",
       "reviewer_fans                             0.009239       1.000000   \n",
       "reviewer_review_count                     0.004238       0.629753   \n",
       "reviewer_reviews_per_month                0.012546       0.480184   \n",
       "reviewer_num_friends                      0.015531       0.704764   \n",
       "\n",
       "                            reviewer_review_count  reviewer_reviews_per_month  \\\n",
       "reviewer_average_stars                   0.004238                    0.012546   \n",
       "reviewer_fans                            0.629753                    0.480184   \n",
       "reviewer_review_count                    1.000000                    0.838237   \n",
       "reviewer_reviews_per_month               0.838237                    1.000000   \n",
       "reviewer_num_friends                     0.530486                    0.441160   \n",
       "\n",
       "                            reviewer_num_friends  \n",
       "reviewer_average_stars                  0.015531  \n",
       "reviewer_fans                           0.704764  \n",
       "reviewer_review_count                   0.530486  \n",
       "reviewer_reviews_per_month              0.441160  \n",
       "reviewer_num_friends                    1.000000  "
      ]
     },
     "execution_count": 36,
     "metadata": {},
     "output_type": "execute_result"
    }
   ],
   "source": [
    "people_df[['reviewer_average_stars','reviewer_fans','reviewer_review_count','reviewer_reviews_per_month','reviewer_num_friends']].corr()"
   ]
  },
  {
   "cell_type": "code",
   "execution_count": 58,
   "metadata": {
    "collapsed": false
   },
   "outputs": [
    {
     "data": {
      "text/plain": [
       "<matplotlib.collections.PathCollection at 0x11ec30850>"
      ]
     },
     "execution_count": 58,
     "metadata": {},
     "output_type": "execute_result"
    },
    {
     "data": {
      "image/png": "[encoded data removed]",
      "text/plain": [
       "<matplotlib.figure.Figure at 0x11eb18090>"
      ]
     },
     "metadata": {},
     "output_type": "display_data"
    }
   ],
   "source": [
    "#plt.scatter(people_df['reviewer_months_as_yelper'],people_df['reviewer_review_count'])"
   ]
  },
  {
   "cell_type": "code",
   "execution_count": 99,
   "metadata": {
    "collapsed": false
   },
   "outputs": [
    {
     "data": {
      "text/html": [
       "<div>\n",
       "<table border=\"1\" class=\"dataframe\">\n",
       "  <thead>\n",
       "    <tr style=\"text-align: right;\">\n",
       "      <th></th>\n",
       "      <th>reviewer_average_stars</th>\n",
       "      <th>reviewer_fans</th>\n",
       "      <th>reviewer_review_count</th>\n",
       "      <th>reviewer_funny_votes</th>\n",
       "      <th>reviewer_useful_votes</th>\n",
       "      <th>reviewer_cool_votes</th>\n",
       "      <th>reviewer_total_votes</th>\n",
       "      <th>reviewer_num_friends</th>\n",
       "      <th>reviewer_years_elite</th>\n",
       "      <th>reviewer_currently_elite</th>\n",
       "      <th>reviewer_num_compliments</th>\n",
       "      <th>reviewer_months_as_yelper</th>\n",
       "      <th>reviewer_reviews_per_month</th>\n",
       "    </tr>\n",
       "  </thead>\n",
       "  <tbody>\n",
       "    <tr>\n",
       "      <th>count</th>\n",
       "      <td>16518.000000</td>\n",
       "      <td>16518.000000</td>\n",
       "      <td>16518.000000</td>\n",
       "      <td>16518</td>\n",
       "      <td>16518</td>\n",
       "      <td>16518</td>\n",
       "      <td>16518</td>\n",
       "      <td>16518.000000</td>\n",
       "      <td>16518.000000</td>\n",
       "      <td>16518.000000</td>\n",
       "      <td>16518.000000</td>\n",
       "      <td>16518.000000</td>\n",
       "      <td>16518.000000</td>\n",
       "    </tr>\n",
       "    <tr>\n",
       "      <th>mean</th>\n",
       "      <td>3.709490</td>\n",
       "      <td>2.286233</td>\n",
       "      <td>45.338419</td>\n",
       "      <td>0</td>\n",
       "      <td>0</td>\n",
       "      <td>0</td>\n",
       "      <td>0</td>\n",
       "      <td>8.182347</td>\n",
       "      <td>0.359789</td>\n",
       "      <td>0.059995</td>\n",
       "      <td>34.964160</td>\n",
       "      <td>38.002388</td>\n",
       "      <td>1.038333</td>\n",
       "    </tr>\n",
       "    <tr>\n",
       "      <th>std</th>\n",
       "      <td>0.902253</td>\n",
       "      <td>18.212466</td>\n",
       "      <td>140.627383</td>\n",
       "      <td>0</td>\n",
       "      <td>0</td>\n",
       "      <td>0</td>\n",
       "      <td>0</td>\n",
       "      <td>55.806071</td>\n",
       "      <td>1.199553</td>\n",
       "      <td>0.237485</td>\n",
       "      <td>497.544092</td>\n",
       "      <td>21.942699</td>\n",
       "      <td>2.461923</td>\n",
       "    </tr>\n",
       "    <tr>\n",
       "      <th>min</th>\n",
       "      <td>0.000000</td>\n",
       "      <td>0.000000</td>\n",
       "      <td>0.000000</td>\n",
       "      <td>0</td>\n",
       "      <td>0</td>\n",
       "      <td>0</td>\n",
       "      <td>0</td>\n",
       "      <td>0.000000</td>\n",
       "      <td>0.000000</td>\n",
       "      <td>0.000000</td>\n",
       "      <td>0.000000</td>\n",
       "      <td>0.229984</td>\n",
       "      <td>0.000000</td>\n",
       "    </tr>\n",
       "    <tr>\n",
       "      <th>25%</th>\n",
       "      <td>3.330000</td>\n",
       "      <td>0.000000</td>\n",
       "      <td>3.000000</td>\n",
       "      <td>0</td>\n",
       "      <td>0</td>\n",
       "      <td>0</td>\n",
       "      <td>0</td>\n",
       "      <td>0.000000</td>\n",
       "      <td>0.000000</td>\n",
       "      <td>0.000000</td>\n",
       "      <td>0.000000</td>\n",
       "      <td>20.271463</td>\n",
       "      <td>0.110379</td>\n",
       "    </tr>\n",
       "    <tr>\n",
       "      <th>50%</th>\n",
       "      <td>3.820000</td>\n",
       "      <td>0.000000</td>\n",
       "      <td>8.000000</td>\n",
       "      <td>0</td>\n",
       "      <td>0</td>\n",
       "      <td>0</td>\n",
       "      <td>0</td>\n",
       "      <td>0.000000</td>\n",
       "      <td>0.000000</td>\n",
       "      <td>0.000000</td>\n",
       "      <td>0.000000</td>\n",
       "      <td>36.238937</td>\n",
       "      <td>0.284555</td>\n",
       "    </tr>\n",
       "    <tr>\n",
       "      <th>75%</th>\n",
       "      <td>4.250000</td>\n",
       "      <td>1.000000</td>\n",
       "      <td>26.000000</td>\n",
       "      <td>0</td>\n",
       "      <td>0</td>\n",
       "      <td>0</td>\n",
       "      <td>0</td>\n",
       "      <td>3.000000</td>\n",
       "      <td>0.000000</td>\n",
       "      <td>0.000000</td>\n",
       "      <td>3.000000</td>\n",
       "      <td>52.239266</td>\n",
       "      <td>0.845469</td>\n",
       "    </tr>\n",
       "    <tr>\n",
       "      <th>max</th>\n",
       "      <td>5.000000</td>\n",
       "      <td>1075.000000</td>\n",
       "      <td>4323.000000</td>\n",
       "      <td>0</td>\n",
       "      <td>0</td>\n",
       "      <td>0</td>\n",
       "      <td>0</td>\n",
       "      <td>2720.000000</td>\n",
       "      <td>11.000000</td>\n",
       "      <td>1.000000</td>\n",
       "      <td>41095.000000</td>\n",
       "      <td>123.238670</td>\n",
       "      <td>64.423460</td>\n",
       "    </tr>\n",
       "  </tbody>\n",
       "</table>\n",
       "</div>"
      ],
      "text/plain": [
       "       reviewer_average_stars  reviewer_fans  reviewer_review_count  \\\n",
       "count            16518.000000   16518.000000           16518.000000   \n",
       "mean                 3.709490       2.286233              45.338419   \n",
       "std                  0.902253      18.212466             140.627383   \n",
       "min                  0.000000       0.000000               0.000000   \n",
       "25%                  3.330000       0.000000               3.000000   \n",
       "50%                  3.820000       0.000000               8.000000   \n",
       "75%                  4.250000       1.000000              26.000000   \n",
       "max                  5.000000    1075.000000            4323.000000   \n",
       "\n",
       "       reviewer_funny_votes  reviewer_useful_votes  reviewer_cool_votes  \\\n",
       "count                 16518                  16518                16518   \n",
       "mean                      0                      0                    0   \n",
       "std                       0                      0                    0   \n",
       "min                       0                      0                    0   \n",
       "25%                       0                      0                    0   \n",
       "50%                       0                      0                    0   \n",
       "75%                       0                      0                    0   \n",
       "max                       0                      0                    0   \n",
       "\n",
       "       reviewer_total_votes  reviewer_num_friends  reviewer_years_elite  \\\n",
       "count                 16518          16518.000000          16518.000000   \n",
       "mean                      0              8.182347              0.359789   \n",
       "std                       0             55.806071              1.199553   \n",
       "min                       0              0.000000              0.000000   \n",
       "25%                       0              0.000000              0.000000   \n",
       "50%                       0              0.000000              0.000000   \n",
       "75%                       0              3.000000              0.000000   \n",
       "max                       0           2720.000000             11.000000   \n",
       "\n",
       "       reviewer_currently_elite  reviewer_num_compliments  \\\n",
       "count              16518.000000              16518.000000   \n",
       "mean                   0.059995                 34.964160   \n",
       "std                    0.237485                497.544092   \n",
       "min                    0.000000                  0.000000   \n",
       "25%                    0.000000                  0.000000   \n",
       "50%                    0.000000                  0.000000   \n",
       "75%                    0.000000                  3.000000   \n",
       "max                    1.000000              41095.000000   \n",
       "\n",
       "       reviewer_months_as_yelper  reviewer_reviews_per_month  \n",
       "count               16518.000000                16518.000000  \n",
       "mean                   38.002388                    1.038333  \n",
       "std                    21.942699                    2.461923  \n",
       "min                     0.229984                    0.000000  \n",
       "25%                    20.271463                    0.110379  \n",
       "50%                    36.238937                    0.284555  \n",
       "75%                    52.239266                    0.845469  \n",
       "max                   123.238670                   64.423460  "
      ]
     },
     "execution_count": 99,
     "metadata": {},
     "output_type": "execute_result"
    }
   ],
   "source": [
    "people_df.describe()"
   ]
  },
  {
   "cell_type": "code",
   "execution_count": 102,
   "metadata": {
    "collapsed": false
   },
   "outputs": [
    {
     "data": {
      "text/plain": [
       "7955"
      ]
     },
     "execution_count": 102,
     "metadata": {},
     "output_type": "execute_result"
    }
   ],
   "source": [
    "(people_df['reviewer_num_friends']>0).sum()"
   ]
  },
  {
   "cell_type": "code",
   "execution_count": 95,
   "metadata": {
    "collapsed": false
   },
   "outputs": [
    {
     "data": {
      "text/plain": [
       "<matplotlib.axes._subplots.AxesSubplot at 0x15250f410>"
      ]
     },
     "execution_count": 95,
     "metadata": {},
     "output_type": "execute_result"
    },
    {
     "data": {
      "image/png": "[encoded data removed]",
      "text/plain": [
       "<matplotlib.figure.Figure at 0x12708d710>"
      ]
     },
     "metadata": {},
     "output_type": "display_data"
    }
   ],
   "source": [
    "people_df['reviewer_review_count'].hist(bins=50)"
   ]
  },
  {
   "cell_type": "code",
   "execution_count": 72,
   "metadata": {
    "collapsed": false
   },
   "outputs": [
    {
     "data": {
      "text/plain": [
       "<matplotlib.text.Text at 0x126576390>"
      ]
     },
     "execution_count": 72,
     "metadata": {},
     "output_type": "execute_result"
    },
    {
     "data": {
      "image/png": "[encoded data removed]",
      "text/plain": [
       "<matplotlib.figure.Figure at 0x126501f90>"
      ]
     },
     "metadata": {},
     "output_type": "display_data"
    }
   ],
   "source": [
    "months_yelper = people_df['reviewer_months_as_yelper'].hist(color='green') #A lot of new yelpers!\n",
    "months_yelper.set_xlabel('Months on Yelp')\n",
    "months_yelper.set_ylabel('Number of Reviewers')\n",
    "months_yelper.set_title('Number of Reviewers by Months on Yelp')"
   ]
  },
  {
   "cell_type": "code",
   "execution_count": 62,
   "metadata": {
    "collapsed": false
   },
   "outputs": [
    {
     "data": {
      "text/plain": [
       "<matplotlib.axes._subplots.AxesSubplot at 0x11e3ba5d0>"
      ]
     },
     "execution_count": 62,
     "metadata": {},
     "output_type": "execute_result"
    },
    {
     "data": {
      "image/png": "[encoded data removed]",
      "text/plain": [
       "<matplotlib.figure.Figure at 0x11ee9e7d0>"
      ]
     },
     "metadata": {},
     "output_type": "display_data"
    }
   ],
   "source": [
    "people_df['reviewer_reviews_per_month'].hist(bins=100) #Most people have little activity on the service"
   ]
  },
  {
   "cell_type": "code",
   "execution_count": 63,
   "metadata": {
    "collapsed": false
   },
   "outputs": [
    {
     "data": {
      "text/plain": [
       "<matplotlib.axes._subplots.AxesSubplot at 0x11ff137d0>"
      ]
     },
     "execution_count": 63,
     "metadata": {},
     "output_type": "execute_result"
    },
    {
     "data": {
      "image/png": "[encoded data removed]",
      "text/plain": [
       "<matplotlib.figure.Figure at 0x11ff1ef90>"
      ]
     },
     "metadata": {},
     "output_type": "display_data"
    }
   ],
   "source": [
    "people_df['reviewer_average_stars'].hist() #Similar trend to restaurant ratings; mostly above average to great reviews"
   ]
  },
  {
   "cell_type": "code",
   "execution_count": 64,
   "metadata": {
    "collapsed": false
   },
   "outputs": [
    {
     "data": {
      "text/plain": [
       "0.0599951567986439"
      ]
     },
     "execution_count": 64,
     "metadata": {},
     "output_type": "execute_result"
    }
   ],
   "source": [
    "float(people_df['reviewer_currently_elite'].sum())/float(len(people_df)) #Six percent of people are elite"
   ]
  },
  {
   "cell_type": "markdown",
   "metadata": {},
   "source": [
    "### Step 4: Analyze review trends"
   ]
  },
  {
   "cell_type": "code",
   "execution_count": 65,
   "metadata": {
    "collapsed": false
   },
   "outputs": [
    {
     "data": {
      "text/html": [
       "<div>\n",
       "<table border=\"1\" class=\"dataframe\">\n",
       "  <thead>\n",
       "    <tr style=\"text-align: right;\">\n",
       "      <th></th>\n",
       "      <th>review_date</th>\n",
       "      <th>review_id</th>\n",
       "      <th>review_stars</th>\n",
       "      <th>review_text</th>\n",
       "      <th>review_funny_votes</th>\n",
       "      <th>review_useful_votes</th>\n",
       "      <th>review_cool_votes</th>\n",
       "      <th>review_total_votes</th>\n",
       "      <th>reviewer_id</th>\n",
       "      <th>business_id</th>\n",
       "    </tr>\n",
       "  </thead>\n",
       "  <tbody>\n",
       "    <tr>\n",
       "      <th>0</th>\n",
       "      <td>2010-12-31</td>\n",
       "      <td>5jK4kzMbk5_2uFlW6SBqdQ</td>\n",
       "      <td>4</td>\n",
       "      <td>In the Pineville area and need a quick breakfa...</td>\n",
       "      <td>1</td>\n",
       "      <td>1</td>\n",
       "      <td>1</td>\n",
       "      <td>3</td>\n",
       "      <td>whKpnugMnWTz3UjlrN71yg</td>\n",
       "      <td>Gw5POFxBRoJxN_ZYhk6lgQ</td>\n",
       "    </tr>\n",
       "    <tr>\n",
       "      <th>1</th>\n",
       "      <td>2011-07-18</td>\n",
       "      <td>GLBryAnx1thVohzWc1nV_A</td>\n",
       "      <td>5</td>\n",
       "      <td>I came here for the first time and was so happ...</td>\n",
       "      <td>0</td>\n",
       "      <td>0</td>\n",
       "      <td>0</td>\n",
       "      <td>0</td>\n",
       "      <td>4522K1jh68XVpUsPh-5I7A</td>\n",
       "      <td>Gw5POFxBRoJxN_ZYhk6lgQ</td>\n",
       "    </tr>\n",
       "    <tr>\n",
       "      <th>2</th>\n",
       "      <td>2011-07-29</td>\n",
       "      <td>EHERBq_z1IdCvU56L32nVQ</td>\n",
       "      <td>4</td>\n",
       "      <td>I would definitely need some bad service for a...</td>\n",
       "      <td>0</td>\n",
       "      <td>0</td>\n",
       "      <td>0</td>\n",
       "      <td>0</td>\n",
       "      <td>FdaMP9RQHCY7WMFPq80LCg</td>\n",
       "      <td>Gw5POFxBRoJxN_ZYhk6lgQ</td>\n",
       "    </tr>\n",
       "    <tr>\n",
       "      <th>3</th>\n",
       "      <td>2012-09-19</td>\n",
       "      <td>ZXPMc6Lc4V7nqknsJ13u9A</td>\n",
       "      <td>4</td>\n",
       "      <td>This place is an awesome!\\n\\nThe bagels are fr...</td>\n",
       "      <td>0</td>\n",
       "      <td>0</td>\n",
       "      <td>0</td>\n",
       "      <td>0</td>\n",
       "      <td>PM2jXrlVzik1jDwwahLJJQ</td>\n",
       "      <td>Gw5POFxBRoJxN_ZYhk6lgQ</td>\n",
       "    </tr>\n",
       "    <tr>\n",
       "      <th>4</th>\n",
       "      <td>2012-12-29</td>\n",
       "      <td>DttWnjejrfXUDiZzC0aFAg</td>\n",
       "      <td>3</td>\n",
       "      <td>I have mixed feelings about Bruegger's but I s...</td>\n",
       "      <td>0</td>\n",
       "      <td>0</td>\n",
       "      <td>0</td>\n",
       "      <td>0</td>\n",
       "      <td>naBs2Kg2KClrKcoRgFE2eA</td>\n",
       "      <td>Gw5POFxBRoJxN_ZYhk6lgQ</td>\n",
       "    </tr>\n",
       "  </tbody>\n",
       "</table>\n",
       "</div>"
      ],
      "text/plain": [
       "  review_date               review_id  review_stars  \\\n",
       "0  2010-12-31  5jK4kzMbk5_2uFlW6SBqdQ             4   \n",
       "1  2011-07-18  GLBryAnx1thVohzWc1nV_A             5   \n",
       "2  2011-07-29  EHERBq_z1IdCvU56L32nVQ             4   \n",
       "3  2012-09-19  ZXPMc6Lc4V7nqknsJ13u9A             4   \n",
       "4  2012-12-29  DttWnjejrfXUDiZzC0aFAg             3   \n",
       "\n",
       "                                         review_text  review_funny_votes  \\\n",
       "0  In the Pineville area and need a quick breakfa...                   1   \n",
       "1  I came here for the first time and was so happ...                   0   \n",
       "2  I would definitely need some bad service for a...                   0   \n",
       "3  This place is an awesome!\\n\\nThe bagels are fr...                   0   \n",
       "4  I have mixed feelings about Bruegger's but I s...                   0   \n",
       "\n",
       "   review_useful_votes  review_cool_votes  review_total_votes  \\\n",
       "0                    1                  1                   3   \n",
       "1                    0                  0                   0   \n",
       "2                    0                  0                   0   \n",
       "3                    0                  0                   0   \n",
       "4                    0                  0                   0   \n",
       "\n",
       "              reviewer_id             business_id  \n",
       "0  whKpnugMnWTz3UjlrN71yg  Gw5POFxBRoJxN_ZYhk6lgQ  \n",
       "1  4522K1jh68XVpUsPh-5I7A  Gw5POFxBRoJxN_ZYhk6lgQ  \n",
       "2  FdaMP9RQHCY7WMFPq80LCg  Gw5POFxBRoJxN_ZYhk6lgQ  \n",
       "3  PM2jXrlVzik1jDwwahLJJQ  Gw5POFxBRoJxN_ZYhk6lgQ  \n",
       "4  naBs2Kg2KClrKcoRgFE2eA  Gw5POFxBRoJxN_ZYhk6lgQ  "
      ]
     },
     "execution_count": 65,
     "metadata": {},
     "output_type": "execute_result"
    }
   ],
   "source": [
    "reviews_df.head()"
   ]
  },
  {
   "cell_type": "code",
   "execution_count": 86,
   "metadata": {
    "collapsed": false
   },
   "outputs": [],
   "source": [
    "#reviews_df['review_len']=len(reviews_df['review_text'].str.lower().str.split())\n",
    "reviews_df['review_len'] = reviews_df['review_text'].str.lower().str.split().str.len()"
   ]
  },
  {
   "cell_type": "code",
   "execution_count": 93,
   "metadata": {
    "collapsed": false
   },
   "outputs": [
    {
     "data": {
      "text/plain": [
       "<matplotlib.text.Text at 0x15efdd090>"
      ]
     },
     "execution_count": 93,
     "metadata": {},
     "output_type": "execute_result"
    },
    {
     "data": {
      "image/png": "[encoded data removed]",
      "text/plain": [
       "<matplotlib.figure.Figure at 0x165c2fb50>"
      ]
     },
     "metadata": {},
     "output_type": "display_data"
    }
   ],
   "source": [
    "review_lengths = reviews_df['review_len'].hist(bins=50)\n",
    "review_lengths.set_xlabel('Length of Review (Word Count)')\n",
    "review_lengths.set_ylabel('Number of Reviews')\n",
    "review_lengths.set_title('Number of Reviews by Length')"
   ]
  },
  {
   "cell_type": "code",
   "execution_count": 90,
   "metadata": {
    "collapsed": false
   },
   "outputs": [
    {
     "data": {
      "text/html": [
       "<div>\n",
       "<table border=\"1\" class=\"dataframe\">\n",
       "  <thead>\n",
       "    <tr style=\"text-align: right;\">\n",
       "      <th></th>\n",
       "      <th>review_stars</th>\n",
       "      <th>review_funny_votes</th>\n",
       "      <th>review_useful_votes</th>\n",
       "      <th>review_cool_votes</th>\n",
       "      <th>review_total_votes</th>\n",
       "      <th>review_len</th>\n",
       "    </tr>\n",
       "  </thead>\n",
       "  <tbody>\n",
       "    <tr>\n",
       "      <th>review_stars</th>\n",
       "      <td>1.000000</td>\n",
       "      <td>-0.022148</td>\n",
       "      <td>-0.009675</td>\n",
       "      <td>0.098135</td>\n",
       "      <td>0.020120</td>\n",
       "      <td>-0.129984</td>\n",
       "    </tr>\n",
       "    <tr>\n",
       "      <th>review_funny_votes</th>\n",
       "      <td>-0.022148</td>\n",
       "      <td>1.000000</td>\n",
       "      <td>0.593867</td>\n",
       "      <td>0.680825</td>\n",
       "      <td>0.826516</td>\n",
       "      <td>0.234180</td>\n",
       "    </tr>\n",
       "    <tr>\n",
       "      <th>review_useful_votes</th>\n",
       "      <td>-0.009675</td>\n",
       "      <td>0.593867</td>\n",
       "      <td>1.000000</td>\n",
       "      <td>0.720706</td>\n",
       "      <td>0.914089</td>\n",
       "      <td>0.368894</td>\n",
       "    </tr>\n",
       "    <tr>\n",
       "      <th>review_cool_votes</th>\n",
       "      <td>0.098135</td>\n",
       "      <td>0.680825</td>\n",
       "      <td>0.720706</td>\n",
       "      <td>1.000000</td>\n",
       "      <td>0.893370</td>\n",
       "      <td>0.258550</td>\n",
       "    </tr>\n",
       "    <tr>\n",
       "      <th>review_total_votes</th>\n",
       "      <td>0.020120</td>\n",
       "      <td>0.826516</td>\n",
       "      <td>0.914089</td>\n",
       "      <td>0.893370</td>\n",
       "      <td>1.000000</td>\n",
       "      <td>0.339538</td>\n",
       "    </tr>\n",
       "    <tr>\n",
       "      <th>review_len</th>\n",
       "      <td>-0.129984</td>\n",
       "      <td>0.234180</td>\n",
       "      <td>0.368894</td>\n",
       "      <td>0.258550</td>\n",
       "      <td>0.339538</td>\n",
       "      <td>1.000000</td>\n",
       "    </tr>\n",
       "  </tbody>\n",
       "</table>\n",
       "</div>"
      ],
      "text/plain": [
       "                     review_stars  review_funny_votes  review_useful_votes  \\\n",
       "review_stars             1.000000           -0.022148            -0.009675   \n",
       "review_funny_votes      -0.022148            1.000000             0.593867   \n",
       "review_useful_votes     -0.009675            0.593867             1.000000   \n",
       "review_cool_votes        0.098135            0.680825             0.720706   \n",
       "review_total_votes       0.020120            0.826516             0.914089   \n",
       "review_len              -0.129984            0.234180             0.368894   \n",
       "\n",
       "                     review_cool_votes  review_total_votes  review_len  \n",
       "review_stars                  0.098135            0.020120   -0.129984  \n",
       "review_funny_votes            0.680825            0.826516    0.234180  \n",
       "review_useful_votes           0.720706            0.914089    0.368894  \n",
       "review_cool_votes             1.000000            0.893370    0.258550  \n",
       "review_total_votes            0.893370            1.000000    0.339538  \n",
       "review_len                    0.258550            0.339538    1.000000  "
      ]
     },
     "execution_count": 90,
     "metadata": {},
     "output_type": "execute_result"
    }
   ],
   "source": [
    "reviews_df.corr()"
   ]
  },
  {
   "cell_type": "code",
   "execution_count": 70,
   "metadata": {
    "collapsed": false
   },
   "outputs": [
    {
     "data": {
      "text/plain": [
       "<matplotlib.text.Text at 0x125f33450>"
      ]
     },
     "execution_count": 70,
     "metadata": {},
     "output_type": "execute_result"
    },
    {
     "data": {
      "image/png": "[encoded data removed]",
      "text/plain": [
       "<matplotlib.figure.Figure at 0x125b31910>"
      ]
     },
     "metadata": {},
     "output_type": "display_data"
    }
   ],
   "source": [
    "#reviews_df[['review_date','review_id']].groupby('review_date').count().plot(kind='line')\n",
    "reviews_df['review_date'] = pd.to_datetime(reviews_df['review_date'])\n",
    "reviews_plot = reviews_df[['review_date','review_id']].set_index('review_date').resample('M','count').plot()\n",
    "reviews_plot.set_xlabel('Review Month')\n",
    "reviews_plot.set_ylabel('Number of Reviews')\n",
    "reviews_plot.set_title('Number of Reviews by Month')"
   ]
  },
  {
   "cell_type": "markdown",
   "metadata": {},
   "source": [
    "Number of reviews has grown over time"
   ]
  },
  {
   "cell_type": "code",
   "execution_count": 68,
   "metadata": {
    "collapsed": false
   },
   "outputs": [
    {
     "data": {
      "text/plain": [
       "<matplotlib.axes._subplots.AxesSubplot at 0x124de4050>"
      ]
     },
     "execution_count": 68,
     "metadata": {},
     "output_type": "execute_result"
    },
    {
     "data": {
      "image/png": "[encoded data removed]",
      "text/plain": [
       "<matplotlib.figure.Figure at 0x11ff13950>"
      ]
     },
     "metadata": {},
     "output_type": "display_data"
    }
   ],
   "source": [
    "reviews_df['review_stars'].hist(bins=5)"
   ]
  },
  {
   "cell_type": "code",
   "execution_count": null,
   "metadata": {
    "collapsed": true
   },
   "outputs": [],
   "source": []
  }
 ],
 "metadata": {
  "kernelspec": {
   "display_name": "Python 2",
   "language": "python",
   "name": "python2"
  },
  "language_info": {
   "codemirror_mode": {
    "name": "ipython",
    "version": 2
   },
   "file_extension": ".py",
   "mimetype": "text/x-python",
   "name": "python",
   "nbconvert_exporter": "python",
   "pygments_lexer": "ipython2",
   "version": "2.7.11"
  }
 },
 "nbformat": 4,
 "nbformat_minor": 0
}
