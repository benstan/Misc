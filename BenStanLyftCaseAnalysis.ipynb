{
 "cells": [
  {
   "cell_type": "code",
   "execution_count": 1,
   "metadata": {
    "collapsed": true
   },
   "outputs": [],
   "source": [
    "import pandas as pd\n",
    "import numpy as np\n",
    "import matplotlib.pyplot as plt\n",
    "%matplotlib inline\n",
    "pd.set_option('display.max_columns', None)\n",
    "from pandas.io import sql\n",
    "import sqlite3"
   ]
  },
  {
   "cell_type": "markdown",
   "metadata": {},
   "source": [
    "## Step 1. Data imports and exploratory analysis"
   ]
  },
  {
   "cell_type": "code",
   "execution_count": 2,
   "metadata": {
    "collapsed": true
   },
   "outputs": [],
   "source": [
    "df = pd.read_csv(\"/Users/benstan/Documents/Job Search 2016/lyft_case/lyft_data_1.csv\")"
   ]
  },
  {
   "cell_type": "code",
   "execution_count": 3,
   "metadata": {
    "collapsed": false
   },
   "outputs": [
    {
     "data": {
      "text/html": [
       "<div>\n",
       "<table border=\"1\" class=\"dataframe\">\n",
       "  <thead>\n",
       "    <tr style=\"text-align: right;\">\n",
       "      <th></th>\n",
       "      <th>driver_id</th>\n",
       "      <th>donation amount</th>\n",
       "      <th>unix timestamp</th>\n",
       "    </tr>\n",
       "  </thead>\n",
       "  <tbody>\n",
       "    <tr>\n",
       "      <th>0</th>\n",
       "      <td>0</td>\n",
       "      <td>12</td>\n",
       "      <td>978307000</td>\n",
       "    </tr>\n",
       "    <tr>\n",
       "      <th>1</th>\n",
       "      <td>0</td>\n",
       "      <td>12</td>\n",
       "      <td>978566000</td>\n",
       "    </tr>\n",
       "    <tr>\n",
       "      <th>2</th>\n",
       "      <td>0</td>\n",
       "      <td>12</td>\n",
       "      <td>978566000</td>\n",
       "    </tr>\n",
       "    <tr>\n",
       "      <th>3</th>\n",
       "      <td>0</td>\n",
       "      <td>13</td>\n",
       "      <td>978739000</td>\n",
       "    </tr>\n",
       "    <tr>\n",
       "      <th>4</th>\n",
       "      <td>0</td>\n",
       "      <td>13</td>\n",
       "      <td>978480000</td>\n",
       "    </tr>\n",
       "  </tbody>\n",
       "</table>\n",
       "</div>"
      ],
      "text/plain": [
       "   driver_id  donation amount  unix timestamp\n",
       "0          0               12       978307000\n",
       "1          0               12       978566000\n",
       "2          0               12       978566000\n",
       "3          0               13       978739000\n",
       "4          0               13       978480000"
      ]
     },
     "execution_count": 3,
     "metadata": {},
     "output_type": "execute_result"
    }
   ],
   "source": [
    "df.head()"
   ]
  },
  {
   "cell_type": "code",
   "execution_count": 4,
   "metadata": {
    "collapsed": false
   },
   "outputs": [],
   "source": [
    "df['date'] = pd.to_datetime(df['unix timestamp'],unit='s',format='%Y-%m-%d').astype(str).str.slice(0,10)#.substr\n",
    "df['timestamp'] = pd.to_datetime(df['unix timestamp'],unit='s',format='%Y-%m-%d')\n",
    "df['donation_amount'] = df['donation amount']"
   ]
  },
  {
   "cell_type": "code",
   "execution_count": 5,
   "metadata": {
    "collapsed": false
   },
   "outputs": [],
   "source": [
    "del df['donation amount']\n",
    "del df['unix timestamp']"
   ]
  },
  {
   "cell_type": "code",
   "execution_count": 6,
   "metadata": {
    "collapsed": false
   },
   "outputs": [
    {
     "data": {
      "text/html": [
       "<div>\n",
       "<table border=\"1\" class=\"dataframe\">\n",
       "  <thead>\n",
       "    <tr style=\"text-align: right;\">\n",
       "      <th></th>\n",
       "      <th>driver_id</th>\n",
       "      <th>date</th>\n",
       "      <th>timestamp</th>\n",
       "      <th>donation_amount</th>\n",
       "    </tr>\n",
       "  </thead>\n",
       "  <tbody>\n",
       "    <tr>\n",
       "      <th>0</th>\n",
       "      <td>0</td>\n",
       "      <td>2000-12-31</td>\n",
       "      <td>2000-12-31 23:56:40</td>\n",
       "      <td>12</td>\n",
       "    </tr>\n",
       "    <tr>\n",
       "      <th>1</th>\n",
       "      <td>0</td>\n",
       "      <td>2001-01-03</td>\n",
       "      <td>2001-01-03 23:53:20</td>\n",
       "      <td>12</td>\n",
       "    </tr>\n",
       "    <tr>\n",
       "      <th>2</th>\n",
       "      <td>0</td>\n",
       "      <td>2001-01-03</td>\n",
       "      <td>2001-01-03 23:53:20</td>\n",
       "      <td>12</td>\n",
       "    </tr>\n",
       "    <tr>\n",
       "      <th>3</th>\n",
       "      <td>0</td>\n",
       "      <td>2001-01-05</td>\n",
       "      <td>2001-01-05 23:56:40</td>\n",
       "      <td>13</td>\n",
       "    </tr>\n",
       "    <tr>\n",
       "      <th>4</th>\n",
       "      <td>0</td>\n",
       "      <td>2001-01-03</td>\n",
       "      <td>2001-01-03 00:00:00</td>\n",
       "      <td>13</td>\n",
       "    </tr>\n",
       "  </tbody>\n",
       "</table>\n",
       "</div>"
      ],
      "text/plain": [
       "   driver_id        date           timestamp  donation_amount\n",
       "0          0  2000-12-31 2000-12-31 23:56:40               12\n",
       "1          0  2001-01-03 2001-01-03 23:53:20               12\n",
       "2          0  2001-01-03 2001-01-03 23:53:20               12\n",
       "3          0  2001-01-05 2001-01-05 23:56:40               13\n",
       "4          0  2001-01-03 2001-01-03 00:00:00               13"
      ]
     },
     "execution_count": 6,
     "metadata": {},
     "output_type": "execute_result"
    }
   ],
   "source": [
    "df.head()"
   ]
  },
  {
   "cell_type": "code",
   "execution_count": 7,
   "metadata": {
    "collapsed": false
   },
   "outputs": [
    {
     "name": "stdout",
     "output_type": "stream",
     "text": [
      "number of rides: 44637\n",
      "number of drivers: 98\n",
      "min date: 2000-12-31\n",
      "max date: 2001-03-24\n"
     ]
    }
   ],
   "source": [
    "print \"number of rides:\",len(df)\n",
    "print \"number of drivers:\",len(np.unique(df.driver_id))\n",
    "print \"min date:\",df['date'].min()\n",
    "print \"max date:\",df['date'].max()\n",
    "#84 days of data in dataset"
   ]
  },
  {
   "cell_type": "code",
   "execution_count": 8,
   "metadata": {
    "collapsed": false
   },
   "outputs": [
    {
     "data": {
      "text/plain": [
       "<matplotlib.axes._subplots.AxesSubplot at 0x10d3dd850>"
      ]
     },
     "execution_count": 8,
     "metadata": {},
     "output_type": "execute_result"
    },
    {
     "data": {
      "image/png": "[encoded data removed]",
      "text/plain": [
       "<matplotlib.figure.Figure at 0x10d3dd210>"
      ]
     },
     "metadata": {},
     "output_type": "display_data"
    }
   ],
   "source": [
    "df['donation_amount'].hist() #Plot of fare prices"
   ]
  },
  {
   "cell_type": "code",
   "execution_count": 9,
   "metadata": {
    "collapsed": false
   },
   "outputs": [
    {
     "data": {
      "text/plain": [
       "<matplotlib.text.Text at 0x110eb4910>"
      ]
     },
     "execution_count": 9,
     "metadata": {},
     "output_type": "execute_result"
    },
    {
     "data": {
      "image/png": "[encoded data removed]",
      "text/plain": [
       "<matplotlib.figure.Figure at 0x1118b5d90>"
      ]
     },
     "metadata": {},
     "output_type": "display_data"
    }
   ],
   "source": [
    "fig = plt.figure()\n",
    "df['timestamp'].hist(color='green')\n",
    "plt.title('Number of Rides by Date', fontsize=14)\n",
    "plt.xlabel('Date', fontsize=12)\n",
    "plt.ylabel('Number of Rides', fontsize=12)"
   ]
  },
  {
   "cell_type": "markdown",
   "metadata": {},
   "source": [
    "### Number of rides realtively consistent over period of interest"
   ]
  },
  {
   "cell_type": "code",
   "execution_count": 10,
   "metadata": {
    "collapsed": false
   },
   "outputs": [
    {
     "data": {
      "text/plain": [
       "<matplotlib.text.Text at 0x111b334d0>"
      ]
     },
     "execution_count": 10,
     "metadata": {},
     "output_type": "execute_result"
    },
    {
     "data": {
      "text/plain": [
       "<matplotlib.figure.Figure at 0x110ebdc10>"
      ]
     },
     "metadata": {},
     "output_type": "display_data"
    },
    {
     "data": {
      "image/png": "[encoded data removed]",
      "text/plain": [
       "<matplotlib.figure.Figure at 0x110ec8150>"
      ]
     },
     "metadata": {},
     "output_type": "display_data"
    }
   ],
   "source": [
    "fig = plt.figure()\n",
    "df[['driver_id','donation_amount']].groupby('driver_id').mean().hist(color='orange') #histogram of average ride amount by driver\n",
    "plt.title('Number of Drivers by Average Ride Fare', fontsize=14)\n",
    "plt.xlabel('Average Ride Fare', fontsize=12)\n",
    "plt.ylabel('Number of Drivers', fontsize=12)"
   ]
  },
  {
   "cell_type": "markdown",
   "metadata": {},
   "source": [
    "### Average ride fare by driver appears to be normally distributed with mean of $9.50"
   ]
  },
  {
   "cell_type": "code",
   "execution_count": 11,
   "metadata": {
    "collapsed": false
   },
   "outputs": [
    {
     "data": {
      "text/plain": [
       "<matplotlib.text.Text at 0x113f46510>"
      ]
     },
     "execution_count": 11,
     "metadata": {},
     "output_type": "execute_result"
    },
    {
     "data": {
      "text/plain": [
       "<matplotlib.figure.Figure at 0x1063611d0>"
      ]
     },
     "metadata": {},
     "output_type": "display_data"
    },
    {
     "data": {
      "image/png": "[encoded data removed]",
      "text/plain": [
       "<matplotlib.figure.Figure at 0x111b45450>"
      ]
     },
     "metadata": {},
     "output_type": "display_data"
    }
   ],
   "source": [
    "#num_rides = df[['driver_id','donation_amount']].groupby('driver_id').count().hist()\n",
    "fig = plt.figure()\n",
    "df[['driver_id','donation_amount']].groupby('driver_id').count().hist()\n",
    "plt.title('Number of Drivers by Total Rides Given', fontsize=14)\n",
    "plt.xlabel('Total Rides Given', fontsize=12)\n",
    "plt.ylabel('Number of Drivers', fontsize=12)"
   ]
  },
  {
   "cell_type": "markdown",
   "metadata": {},
   "source": [
    "### Two groups of drivers shown: Lighter and heavier"
   ]
  },
  {
   "cell_type": "code",
   "execution_count": 12,
   "metadata": {
    "collapsed": false
   },
   "outputs": [
    {
     "data": {
      "text/plain": [
       "<matplotlib.text.Text at 0x114a73c50>"
      ]
     },
     "execution_count": 12,
     "metadata": {},
     "output_type": "execute_result"
    },
    {
     "data": {
      "text/plain": [
       "<matplotlib.figure.Figure at 0x113f61f50>"
      ]
     },
     "metadata": {},
     "output_type": "display_data"
    },
    {
     "data": {
      "image/png": "[encoded data removed]",
      "text/plain": [
       "<matplotlib.figure.Figure at 0x10d3b93d0>"
      ]
     },
     "metadata": {},
     "output_type": "display_data"
    }
   ],
   "source": [
    "fig = plt.figure()\n",
    "df[['driver_id','donation_amount']].groupby('driver_id').sum().hist(color='purple')\n",
    "plt.title('Number of Drivers by Total Revenue', fontsize=14)\n",
    "plt.xlabel('Total Revenue', fontsize=12)\n",
    "plt.ylabel('Number of Drivers', fontsize=12)"
   ]
  },
  {
   "cell_type": "markdown",
   "metadata": {},
   "source": [
    "### Revenue shows similar distribution to total number of rides, which is expected given that each driver's average fare is roughly the same"
   ]
  },
  {
   "cell_type": "markdown",
   "metadata": {},
   "source": [
    "## Step 2. Investigate differences in total rides given"
   ]
  },
  {
   "cell_type": "code",
   "execution_count": 13,
   "metadata": {
    "collapsed": false
   },
   "outputs": [
    {
     "name": "stdout",
     "output_type": "stream",
     "text": [
      "timestamp    29\n",
      "dtype: int64\n",
      "timestamp    900\n",
      "dtype: int64\n"
     ]
    }
   ],
   "source": [
    "print df[['driver_id','timestamp']].groupby('driver_id').count().min() \n",
    "print df[['driver_id','timestamp']].groupby('driver_id').count().max()"
   ]
  },
  {
   "cell_type": "markdown",
   "metadata": {},
   "source": [
    "### Minimum number of rides is 29; max is 900"
   ]
  },
  {
   "cell_type": "code",
   "execution_count": 14,
   "metadata": {
    "collapsed": false
   },
   "outputs": [],
   "source": [
    "conn = sqlite3.connect('df.db', detect_types=sqlite3.PARSE_DECLTYPES)\n",
    "df.to_sql('df',\n",
    "            con=conn,\n",
    "            if_exists='replace',\n",
    "            index=False)"
   ]
  },
  {
   "cell_type": "code",
   "execution_count": 15,
   "metadata": {
    "collapsed": true
   },
   "outputs": [],
   "source": [
    "driver_date_range=sql.read_sql(\"\"\"\n",
    "SELECT\n",
    "driver_id,\n",
    "min(date) AS first_ride_date,\n",
    "max(date) AS last_ride_date,\n",
    "julianday(max(date)) - julianday(min(date)) AS days_driving \n",
    "\n",
    "FROM\n",
    "df\n",
    "\n",
    "GROUP BY 1\n",
    "\"\"\", con=conn)"
   ]
  },
  {
   "cell_type": "code",
   "execution_count": 16,
   "metadata": {
    "collapsed": false
   },
   "outputs": [],
   "source": [
    "rides_per_day=sql.read_sql(\"\"\"\n",
    "SELECT\n",
    "driver_id,\n",
    "COUNT(date) AS num_days,\n",
    "SUM(num_rides) AS total_rides\n",
    "\n",
    "FROM\n",
    "\n",
    "(SELECT\n",
    "driver_id,\n",
    "date,\n",
    "COUNT(donation_amount) AS num_rides\n",
    "\n",
    "FROM\n",
    "df\n",
    "\n",
    "GROUP BY 1,2)\n",
    "GROUP BY 1\n",
    "\"\"\", con=conn)\n",
    "rides_per_day['rides_day'] = rides_per_day['total_rides'].astype(float)/rides_per_day['num_days'].astype(float)"
   ]
  },
  {
   "cell_type": "markdown",
   "metadata": {},
   "source": [
    "### Total rides given can be broken down into two factors: number of days driving and number of rides given per day"
   ]
  },
  {
   "cell_type": "code",
   "execution_count": 17,
   "metadata": {
    "collapsed": false
   },
   "outputs": [
    {
     "data": {
      "text/plain": [
       "<matplotlib.text.Text at 0x1152dc6d0>"
      ]
     },
     "execution_count": 17,
     "metadata": {},
     "output_type": "execute_result"
    },
    {
     "data": {
      "image/png": "[encoded data removed]",
      "text/plain": [
       "<matplotlib.figure.Figure at 0x110ea9ad0>"
      ]
     },
     "metadata": {},
     "output_type": "display_data"
    }
   ],
   "source": [
    "fig = plt.figure()\n",
    "rides_per_day['num_days'].hist(color='green')\n",
    "plt.title('Number of Drivers by Days Active', fontsize=14)\n",
    "plt.xlabel('Days Active', fontsize=12)\n",
    "plt.ylabel('Number of Drivers', fontsize=12)"
   ]
  },
  {
   "cell_type": "code",
   "execution_count": 18,
   "metadata": {
    "collapsed": false
   },
   "outputs": [
    {
     "data": {
      "text/plain": [
       "<matplotlib.text.Text at 0x111b4e550>"
      ]
     },
     "execution_count": 18,
     "metadata": {},
     "output_type": "execute_result"
    },
    {
     "data": {
      "image/png": "[encoded data removed]",
      "text/plain": [
       "<matplotlib.figure.Figure at 0x114437890>"
      ]
     },
     "metadata": {},
     "output_type": "display_data"
    }
   ],
   "source": [
    "fig = plt.figure()\n",
    "rides_per_day['rides_day'].hist()\n",
    "plt.title('Number of Drivers by Number of Rides per Day Driving', fontsize=14)\n",
    "plt.xlabel('Number of Rides per Day Driving', fontsize=12)\n",
    "plt.ylabel('Number of Drivers', fontsize=12)"
   ]
  },
  {
   "cell_type": "code",
   "execution_count": 19,
   "metadata": {
    "collapsed": false
   },
   "outputs": [
    {
     "data": {
      "text/plain": [
       "<matplotlib.text.Text at 0x1155b3dd0>"
      ]
     },
     "execution_count": 19,
     "metadata": {},
     "output_type": "execute_result"
    },
    {
     "data": {
      "image/png": "[encoded data removed]",
      "text/plain": [
       "<matplotlib.figure.Figure at 0x115325d50>"
      ]
     },
     "metadata": {},
     "output_type": "display_data"
    }
   ],
   "source": [
    "fig = plt.figure()\n",
    "plt.scatter(rides_per_day['num_days'],rides_per_day['rides_day'],c=rides_per_day['total_rides'])\n",
    "cb = plt.colorbar()\n",
    "cb.set_label(\"Total Rides\")\n",
    "plt.title('Number of Rides per Day by Days Active', fontsize=14)\n",
    "plt.xlabel('Days Active', fontsize=12)\n",
    "plt.ylabel('Number of Rides per Day', fontsize=12)"
   ]
  },
  {
   "cell_type": "markdown",
   "metadata": {},
   "source": [
    "### By looking at the scatterplot, the y axis, or Number of Rides per Day, appears to be the differentiating factor"
   ]
  },
  {
   "cell_type": "markdown",
   "metadata": {},
   "source": [
    "## Step 3. Look at customer churn in order to calculate lifetime value"
   ]
  },
  {
   "cell_type": "code",
   "execution_count": 20,
   "metadata": {
    "collapsed": false
   },
   "outputs": [
    {
     "name": "stdout",
     "output_type": "stream",
     "text": [
      "2000-12-31    76\n",
      "2001-01-02     2\n",
      "2001-01-08    14\n",
      "2001-01-15     6\n",
      "Name: date, dtype: int64\n"
     ]
    }
   ],
   "source": [
    "print df[['driver_id','date']].groupby('driver_id').min().reset_index()['date'].value_counts().sort_index()\n",
    "#df[['driver_id','timestamp']].groupby('driver_id').min().reset_index()['timestamp'].hist(color='orange')"
   ]
  },
  {
   "cell_type": "markdown",
   "metadata": {},
   "source": [
    "### The first ride for all drivers took place on one of four dates, all within the first ~2 weeks of the time period of interest"
   ]
  },
  {
   "cell_type": "code",
   "execution_count": 21,
   "metadata": {
    "collapsed": false
   },
   "outputs": [
    {
     "name": "stdout",
     "output_type": "stream",
     "text": [
      "2001-01-07     1\n",
      "2001-01-13     2\n",
      "2001-01-20     4\n",
      "2001-01-28     5\n",
      "2001-02-04     4\n",
      "2001-02-11     2\n",
      "2001-02-17     7\n",
      "2001-02-24     9\n",
      "2001-03-03     1\n",
      "2001-03-04     6\n",
      "2001-03-11     2\n",
      "2001-03-18    10\n",
      "2001-03-24    45\n",
      "Name: date, dtype: int64\n"
     ]
    }
   ],
   "source": [
    "print df[['driver_id','date']].groupby('driver_id').max().reset_index()['date'].value_counts().sort_index()"
   ]
  },
  {
   "cell_type": "code",
   "execution_count": 22,
   "metadata": {
    "collapsed": false
   },
   "outputs": [
    {
     "data": {
      "text/plain": [
       "<matplotlib.text.Text at 0x110b763d0>"
      ]
     },
     "execution_count": 22,
     "metadata": {},
     "output_type": "execute_result"
    },
    {
     "data": {
      "image/png": "[encoded data removed]",
      "text/plain": [
       "<matplotlib.figure.Figure at 0x110a79ad0>"
      ]
     },
     "metadata": {},
     "output_type": "display_data"
    }
   ],
   "source": [
    "fig = plt.figure()\n",
    "df[['driver_id','timestamp']].groupby('driver_id').max().reset_index()['timestamp'].hist(color='purple')\n",
    "plt.title('Number of Drivers by Last Date Driving in Time Frame', fontsize=14)\n",
    "plt.xlabel('Last Day Driving in Time Frame', fontsize=12)\n",
    "plt.ylabel('Number of Drivers', fontsize=12)"
   ]
  },
  {
   "cell_type": "markdown",
   "metadata": {},
   "source": [
    "### The last ride for drivers took place at various times, with many remaining active until the end of the time period"
   ]
  },
  {
   "cell_type": "code",
   "execution_count": 23,
   "metadata": {
    "collapsed": false
   },
   "outputs": [
    {
     "data": {
      "text/html": [
       "<div>\n",
       "<table border=\"1\" class=\"dataframe\">\n",
       "  <thead>\n",
       "    <tr style=\"text-align: right;\">\n",
       "      <th></th>\n",
       "      <th>total_drivers</th>\n",
       "      <th>num_active_end</th>\n",
       "    </tr>\n",
       "  </thead>\n",
       "  <tbody>\n",
       "    <tr>\n",
       "      <th>0</th>\n",
       "      <td>98</td>\n",
       "      <td>57</td>\n",
       "    </tr>\n",
       "  </tbody>\n",
       "</table>\n",
       "</div>"
      ],
      "text/plain": [
       "   total_drivers  num_active_end\n",
       "0             98              57"
      ]
     },
     "execution_count": 23,
     "metadata": {},
     "output_type": "execute_result"
    }
   ],
   "source": [
    "survivor_group=sql.read_sql(\"\"\"\n",
    "SELECT\n",
    "COUNT(driver_id) AS total_drivers,\n",
    "SUM(CASE WHEN last_ride_date >= '2001-03-11' THEN 1 ELSE 0 END) AS num_active_end\n",
    "\n",
    "FROM\n",
    "\n",
    "(SELECT\n",
    "driver_id,\n",
    "min(date) AS first_ride_date,\n",
    "max(date) AS last_ride_date,\n",
    "julianday(max(date)) - julianday(min(date)) AS days_driving \n",
    "\n",
    "FROM\n",
    "df\n",
    "\n",
    "GROUP BY 1)\n",
    "\"\"\", con=conn)\n",
    "survivor_group"
   ]
  },
  {
   "cell_type": "markdown",
   "metadata": {},
   "source": [
    "### About 60% of drivers who were active at the start of the period were active at the end; this equates to a 40% churn rate over the period of interest (roughly 3 months). Assuming constant churn rate, this can be represented by y=0.6^x"
   ]
  },
  {
   "cell_type": "code",
   "execution_count": 24,
   "metadata": {
    "collapsed": false
   },
   "outputs": [
    {
     "data": {
      "text/plain": [
       "<matplotlib.text.Text at 0x1158bd0d0>"
      ]
     },
     "execution_count": 24,
     "metadata": {},
     "output_type": "execute_result"
    },
    {
     "data": {
      "image/png": "[encoded data removed]",
      "text/plain": [
       "<matplotlib.figure.Figure at 0x110b7f4d0>"
      ]
     },
     "metadata": {},
     "output_type": "display_data"
    }
   ],
   "source": [
    "x=np.arange(6)\n",
    "y=0.6**(x)\n",
    "fig = plt.figure()\n",
    "plt.plot(x,y)\n",
    "plt.title('Survival Curve for Drivers', fontsize=14)\n",
    "plt.xlabel('Interval (3 mo. each)', fontsize=12)\n",
    "plt.ylabel('Remaining Portion of Population', fontsize=12)"
   ]
  },
  {
   "cell_type": "code",
   "execution_count": 25,
   "metadata": {
    "collapsed": false
   },
   "outputs": [
    {
     "data": {
      "text/html": [
       "<div>\n",
       "<table border=\"1\" class=\"dataframe\">\n",
       "  <thead>\n",
       "    <tr style=\"text-align: right;\">\n",
       "      <th></th>\n",
       "      <th>avg_revenue</th>\n",
       "    </tr>\n",
       "  </thead>\n",
       "  <tbody>\n",
       "    <tr>\n",
       "      <th>0</th>\n",
       "      <td>4328.387755</td>\n",
       "    </tr>\n",
       "  </tbody>\n",
       "</table>\n",
       "</div>"
      ],
      "text/plain": [
       "   avg_revenue\n",
       "0  4328.387755"
      ]
     },
     "execution_count": 25,
     "metadata": {},
     "output_type": "execute_result"
    }
   ],
   "source": [
    "average_revenue_driver=sql.read_sql(\"\"\"\n",
    "SELECT\n",
    "AVG(total_revenue_driver) AS avg_revenue\n",
    "\n",
    "FROM\n",
    "\n",
    "(SELECT\n",
    "driver_id,\n",
    "SUM(donation_amount) AS total_revenue_driver\n",
    "\n",
    "FROM\n",
    "df\n",
    "\n",
    "GROUP BY 1)\n",
    "\"\"\", con=conn)\n",
    "average_revenue_driver"
   ]
  },
  {
   "cell_type": "markdown",
   "metadata": {},
   "source": [
    "### Average revenue per driver over time period is $4328"
   ]
  },
  {
   "cell_type": "markdown",
   "metadata": {},
   "source": [
    "## Step 4. Apply driver type learnings to CLV"
   ]
  },
  {
   "cell_type": "code",
   "execution_count": 26,
   "metadata": {
    "collapsed": false
   },
   "outputs": [],
   "source": [
    "rides_per_day['driver_type'] = 'light'\n",
    "heavy_mask = rides_per_day['rides_day'] >= 12\n",
    "rides_per_day.loc[heavy_mask,'driver_type'] = 'heavy'"
   ]
  },
  {
   "cell_type": "code",
   "execution_count": 30,
   "metadata": {
    "collapsed": false
   },
   "outputs": [],
   "source": [
    "driver_types = rides_per_day[['driver_id','driver_type']]"
   ]
  },
  {
   "cell_type": "code",
   "execution_count": 34,
   "metadata": {
    "collapsed": false
   },
   "outputs": [],
   "source": [
    "df = pd.merge(df,driver_types,on='driver_id')"
   ]
  },
  {
   "cell_type": "code",
   "execution_count": 35,
   "metadata": {
    "collapsed": true
   },
   "outputs": [],
   "source": [
    "conn = sqlite3.connect('df.db', detect_types=sqlite3.PARSE_DECLTYPES)\n",
    "df.to_sql('df',\n",
    "            con=conn,\n",
    "            if_exists='replace',\n",
    "            index=False)"
   ]
  },
  {
   "cell_type": "code",
   "execution_count": 36,
   "metadata": {
    "collapsed": false
   },
   "outputs": [
    {
     "data": {
      "text/html": [
       "<div>\n",
       "<table border=\"1\" class=\"dataframe\">\n",
       "  <thead>\n",
       "    <tr style=\"text-align: right;\">\n",
       "      <th></th>\n",
       "      <th>driver_type</th>\n",
       "      <th>total_drivers</th>\n",
       "      <th>num_active_end</th>\n",
       "    </tr>\n",
       "  </thead>\n",
       "  <tbody>\n",
       "    <tr>\n",
       "      <th>0</th>\n",
       "      <td>heavy</td>\n",
       "      <td>62</td>\n",
       "      <td>50</td>\n",
       "    </tr>\n",
       "    <tr>\n",
       "      <th>1</th>\n",
       "      <td>light</td>\n",
       "      <td>36</td>\n",
       "      <td>7</td>\n",
       "    </tr>\n",
       "  </tbody>\n",
       "</table>\n",
       "</div>"
      ],
      "text/plain": [
       "  driver_type  total_drivers  num_active_end\n",
       "0       heavy             62              50\n",
       "1       light             36               7"
      ]
     },
     "execution_count": 36,
     "metadata": {},
     "output_type": "execute_result"
    }
   ],
   "source": [
    "survivor_group_split=sql.read_sql(\"\"\"\n",
    "SELECT\n",
    "driver_type,\n",
    "COUNT(driver_id) AS total_drivers,\n",
    "SUM(CASE WHEN last_ride_date >= '2001-03-11' THEN 1 ELSE 0 END) AS num_active_end\n",
    "\n",
    "FROM\n",
    "\n",
    "(SELECT\n",
    "driver_id,\n",
    "driver_type,\n",
    "min(date) AS first_ride_date,\n",
    "max(date) AS last_ride_date,\n",
    "julianday(max(date)) - julianday(min(date)) AS days_driving \n",
    "\n",
    "FROM\n",
    "df\n",
    "\n",
    "GROUP BY 1,2)\n",
    "GROUP BY 1\n",
    "\"\"\", con=conn)\n",
    "survivor_group_split"
   ]
  },
  {
   "cell_type": "markdown",
   "metadata": {},
   "source": [
    "### Light drivers have much higher churn rates!"
   ]
  },
  {
   "cell_type": "code",
   "execution_count": 37,
   "metadata": {
    "collapsed": false
   },
   "outputs": [
    {
     "data": {
      "text/html": [
       "<div>\n",
       "<table border=\"1\" class=\"dataframe\">\n",
       "  <thead>\n",
       "    <tr style=\"text-align: right;\">\n",
       "      <th></th>\n",
       "      <th>driver_type</th>\n",
       "      <th>avg_revenue</th>\n",
       "    </tr>\n",
       "  </thead>\n",
       "  <tbody>\n",
       "    <tr>\n",
       "      <th>0</th>\n",
       "      <td>heavy</td>\n",
       "      <td>6086.016129</td>\n",
       "    </tr>\n",
       "    <tr>\n",
       "      <th>1</th>\n",
       "      <td>light</td>\n",
       "      <td>1301.361111</td>\n",
       "    </tr>\n",
       "  </tbody>\n",
       "</table>\n",
       "</div>"
      ],
      "text/plain": [
       "  driver_type  avg_revenue\n",
       "0       heavy  6086.016129\n",
       "1       light  1301.361111"
      ]
     },
     "execution_count": 37,
     "metadata": {},
     "output_type": "execute_result"
    }
   ],
   "source": [
    "average_revenue_driver_split=sql.read_sql(\"\"\"\n",
    "SELECT\n",
    "driver_type,\n",
    "AVG(total_revenue_driver) AS avg_revenue\n",
    "\n",
    "FROM\n",
    "\n",
    "(SELECT\n",
    "driver_id,\n",
    "driver_type,\n",
    "SUM(donation_amount) AS total_revenue_driver\n",
    "\n",
    "FROM\n",
    "df\n",
    "\n",
    "GROUP BY 1,2)\n",
    "GROUP BY 1\n",
    "\"\"\", con=conn)\n",
    "average_revenue_driver_split"
   ]
  },
  {
   "cell_type": "markdown",
   "metadata": {},
   "source": [
    "### These values can be used to compute separate CLVs for the driver cohorts"
   ]
  },
  {
   "cell_type": "code",
   "execution_count": null,
   "metadata": {
    "collapsed": true
   },
   "outputs": [],
   "source": []
  }
 ],
 "metadata": {
  "kernelspec": {
   "display_name": "Python 2",
   "language": "python",
   "name": "python2"
  },
  "language_info": {
   "codemirror_mode": {
    "name": "ipython",
    "version": 2
   },
   "file_extension": ".py",
   "mimetype": "text/x-python",
   "name": "python",
   "nbconvert_exporter": "python",
   "pygments_lexer": "ipython2",
   "version": "2.7.11"
  }
 },
 "nbformat": 4,
 "nbformat_minor": 0
}
