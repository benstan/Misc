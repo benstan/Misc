{
 "cells": [
  {
   "cell_type": "code",
   "execution_count": 1,
   "metadata": {
    "collapsed": false
   },
   "outputs": [],
   "source": [
    "import pandas as pd\n",
    "import numpy as np\n",
    "import matplotlib.pyplot as plt\n",
    "%matplotlib inline\n",
    "pd.set_option('display.max_columns', None)"
   ]
  },
  {
   "cell_type": "code",
   "execution_count": 2,
   "metadata": {
    "collapsed": true
   },
   "outputs": [],
   "source": [
    "reviews_df = pd.read_csv(\"/Users/benstan/Documents/dropbox_case/charlotte_review.csv\")\n",
    "people_df = pd.read_csv(\"/Users/benstan/Documents/dropbox_case/charlotte_reviewer.csv\")\n",
    "biz_df = pd.read_csv(\"/Users/benstan/Documents/dropbox_case/charlotte_business.csv\")\n",
    "YelpData = pd.read_csv(\"/Users/benstan/Documents/dropbox_case/charlotte_data_joined.csv\")"
   ]
  },
  {
   "cell_type": "markdown",
   "metadata": {},
   "source": [
    "### Step 1: Analyze business trends"
   ]
  },
  {
   "cell_type": "code",
   "execution_count": 3,
   "metadata": {
    "collapsed": false
   },
   "outputs": [
    {
     "data": {
      "text/html": [
       "<div>\n",
       "<table border=\"1\" class=\"dataframe\">\n",
       "  <thead>\n",
       "    <tr style=\"text-align: right;\">\n",
       "      <th></th>\n",
       "      <th>business_latitude</th>\n",
       "      <th>business_longitude</th>\n",
       "      <th>business_review_count</th>\n",
       "      <th>business_stars</th>\n",
       "      <th>business_PriceRange</th>\n",
       "    </tr>\n",
       "  </thead>\n",
       "  <tbody>\n",
       "    <tr>\n",
       "      <th>count</th>\n",
       "      <td>1381.000000</td>\n",
       "      <td>1381.000000</td>\n",
       "      <td>1381.000000</td>\n",
       "      <td>1381.000000</td>\n",
       "      <td>1318.000000</td>\n",
       "    </tr>\n",
       "    <tr>\n",
       "      <th>mean</th>\n",
       "      <td>35.195905</td>\n",
       "      <td>-80.833642</td>\n",
       "      <td>41.797972</td>\n",
       "      <td>3.455105</td>\n",
       "      <td>1.536419</td>\n",
       "    </tr>\n",
       "    <tr>\n",
       "      <th>std</th>\n",
       "      <td>0.079646</td>\n",
       "      <td>0.060150</td>\n",
       "      <td>60.637403</td>\n",
       "      <td>0.704909</td>\n",
       "      <td>0.585676</td>\n",
       "    </tr>\n",
       "    <tr>\n",
       "      <th>min</th>\n",
       "      <td>35.022629</td>\n",
       "      <td>-81.005212</td>\n",
       "      <td>3.000000</td>\n",
       "      <td>1.000000</td>\n",
       "      <td>1.000000</td>\n",
       "    </tr>\n",
       "    <tr>\n",
       "      <th>25%</th>\n",
       "      <td>35.145939</td>\n",
       "      <td>-80.858623</td>\n",
       "      <td>8.000000</td>\n",
       "      <td>3.000000</td>\n",
       "      <td>1.000000</td>\n",
       "    </tr>\n",
       "    <tr>\n",
       "      <th>50%</th>\n",
       "      <td>35.207797</td>\n",
       "      <td>-80.841644</td>\n",
       "      <td>19.000000</td>\n",
       "      <td>3.500000</td>\n",
       "      <td>1.000000</td>\n",
       "    </tr>\n",
       "    <tr>\n",
       "      <th>75%</th>\n",
       "      <td>35.229054</td>\n",
       "      <td>-80.795903</td>\n",
       "      <td>51.000000</td>\n",
       "      <td>4.000000</td>\n",
       "      <td>2.000000</td>\n",
       "    </tr>\n",
       "    <tr>\n",
       "      <th>max</th>\n",
       "      <td>35.384064</td>\n",
       "      <td>-80.654628</td>\n",
       "      <td>762.000000</td>\n",
       "      <td>5.000000</td>\n",
       "      <td>4.000000</td>\n",
       "    </tr>\n",
       "  </tbody>\n",
       "</table>\n",
       "</div>"
      ],
      "text/plain": [
       "       business_latitude  business_longitude  business_review_count  \\\n",
       "count        1381.000000         1381.000000            1381.000000   \n",
       "mean           35.195905          -80.833642              41.797972   \n",
       "std             0.079646            0.060150              60.637403   \n",
       "min            35.022629          -81.005212               3.000000   \n",
       "25%            35.145939          -80.858623               8.000000   \n",
       "50%            35.207797          -80.841644              19.000000   \n",
       "75%            35.229054          -80.795903              51.000000   \n",
       "max            35.384064          -80.654628             762.000000   \n",
       "\n",
       "       business_stars  business_PriceRange  \n",
       "count     1381.000000          1318.000000  \n",
       "mean         3.455105             1.536419  \n",
       "std          0.704909             0.585676  \n",
       "min          1.000000             1.000000  \n",
       "25%          3.000000             1.000000  \n",
       "50%          3.500000             1.000000  \n",
       "75%          4.000000             2.000000  \n",
       "max          5.000000             4.000000  "
      ]
     },
     "execution_count": 3,
     "metadata": {},
     "output_type": "execute_result"
    }
   ],
   "source": [
    "biz_df.describe()"
   ]
  },
  {
   "cell_type": "code",
   "execution_count": 4,
   "metadata": {
    "collapsed": false
   },
   "outputs": [
    {
     "name": "stdout",
     "output_type": "stream",
     "text": [
      "(1381, 23)\n"
     ]
    },
    {
     "data": {
      "text/html": [
       "<div>\n",
       "<table border=\"1\" class=\"dataframe\">\n",
       "  <thead>\n",
       "    <tr style=\"text-align: right;\">\n",
       "      <th></th>\n",
       "      <th>business_id</th>\n",
       "      <th>business_city</th>\n",
       "      <th>business_full_address</th>\n",
       "      <th>business_latitude</th>\n",
       "      <th>business_longitude</th>\n",
       "      <th>business_name</th>\n",
       "      <th>business_review_count</th>\n",
       "      <th>business_stars</th>\n",
       "      <th>business_state</th>\n",
       "      <th>business_Take-out</th>\n",
       "      <th>business_Alcohol</th>\n",
       "      <th>business_NoiseLevel</th>\n",
       "      <th>business_Attire</th>\n",
       "      <th>business_Delivery</th>\n",
       "      <th>business_HasTV</th>\n",
       "      <th>business_TakesReservations</th>\n",
       "      <th>business_WheelchairAccessible</th>\n",
       "      <th>business_WaiterService</th>\n",
       "      <th>business_AcceptsCreditCards</th>\n",
       "      <th>business_GoodforKids</th>\n",
       "      <th>business_GoodForGroups</th>\n",
       "      <th>business_PriceRange</th>\n",
       "      <th>business_categories</th>\n",
       "    </tr>\n",
       "  </thead>\n",
       "  <tbody>\n",
       "    <tr>\n",
       "      <th>0</th>\n",
       "      <td>Gw5POFxBRoJxN_ZYhk6lgQ</td>\n",
       "      <td>Charlotte</td>\n",
       "      <td>8706 Pineville-Matthews Road\\nSuite 100\\nCharl...</td>\n",
       "      <td>35.089035</td>\n",
       "      <td>-80.867055</td>\n",
       "      <td>Bruegger's Bagels</td>\n",
       "      <td>9</td>\n",
       "      <td>4.0</td>\n",
       "      <td>NC</td>\n",
       "      <td>True</td>\n",
       "      <td>none</td>\n",
       "      <td>average</td>\n",
       "      <td>casual</td>\n",
       "      <td>False</td>\n",
       "      <td>False</td>\n",
       "      <td>False</td>\n",
       "      <td>True</td>\n",
       "      <td>False</td>\n",
       "      <td>True</td>\n",
       "      <td>True</td>\n",
       "      <td>True</td>\n",
       "      <td>2</td>\n",
       "      <td>[Food, Sandwiches, Bagels, Breakfast &amp; Brunch,...</td>\n",
       "    </tr>\n",
       "    <tr>\n",
       "      <th>1</th>\n",
       "      <td>MMgjU4K0D9RLsb7BWEic4g</td>\n",
       "      <td>Charlotte</td>\n",
       "      <td>8510 Park Rd\\nCharlotte, NC 28210</td>\n",
       "      <td>35.117183</td>\n",
       "      <td>-80.857545</td>\n",
       "      <td>Domino's Pizza</td>\n",
       "      <td>4</td>\n",
       "      <td>4.5</td>\n",
       "      <td>NC</td>\n",
       "      <td>NaN</td>\n",
       "      <td>NaN</td>\n",
       "      <td>NaN</td>\n",
       "      <td>NaN</td>\n",
       "      <td>True</td>\n",
       "      <td>NaN</td>\n",
       "      <td>NaN</td>\n",
       "      <td>NaN</td>\n",
       "      <td>NaN</td>\n",
       "      <td>NaN</td>\n",
       "      <td>NaN</td>\n",
       "      <td>NaN</td>\n",
       "      <td>2</td>\n",
       "      <td>[Sandwiches, Pizza, Chicken Wings, Restaurants]</td>\n",
       "    </tr>\n",
       "    <tr>\n",
       "      <th>2</th>\n",
       "      <td>LT0AgHTpDifuHSXgyLmJwg</td>\n",
       "      <td>Charlotte</td>\n",
       "      <td>309 W 4th St\\nCharlotte, NC 28202</td>\n",
       "      <td>35.228193</td>\n",
       "      <td>-80.846592</td>\n",
       "      <td>Green's Lunch</td>\n",
       "      <td>32</td>\n",
       "      <td>3.5</td>\n",
       "      <td>NC</td>\n",
       "      <td>True</td>\n",
       "      <td>none</td>\n",
       "      <td>average</td>\n",
       "      <td>casual</td>\n",
       "      <td>False</td>\n",
       "      <td>False</td>\n",
       "      <td>False</td>\n",
       "      <td>True</td>\n",
       "      <td>False</td>\n",
       "      <td>True</td>\n",
       "      <td>True</td>\n",
       "      <td>True</td>\n",
       "      <td>1</td>\n",
       "      <td>[Hot Dogs, Restaurants]</td>\n",
       "    </tr>\n",
       "    <tr>\n",
       "      <th>3</th>\n",
       "      <td>USdRzNk14UdjZWFgBJb0wA</td>\n",
       "      <td>Charlotte</td>\n",
       "      <td>511 N Church St\\nFourth Ward\\nCharlotte, NC 28202</td>\n",
       "      <td>35.231684</td>\n",
       "      <td>-80.839638</td>\n",
       "      <td>McNinch House Restaurant</td>\n",
       "      <td>25</td>\n",
       "      <td>4.5</td>\n",
       "      <td>NC</td>\n",
       "      <td>False</td>\n",
       "      <td>full_bar</td>\n",
       "      <td>quiet</td>\n",
       "      <td>formal</td>\n",
       "      <td>False</td>\n",
       "      <td>False</td>\n",
       "      <td>True</td>\n",
       "      <td>NaN</td>\n",
       "      <td>True</td>\n",
       "      <td>True</td>\n",
       "      <td>False</td>\n",
       "      <td>False</td>\n",
       "      <td>4</td>\n",
       "      <td>[American (New), Southern, French, Restaurants]</td>\n",
       "    </tr>\n",
       "    <tr>\n",
       "      <th>4</th>\n",
       "      <td>ePP0Eqz8JKSbtdt2phiB4A</td>\n",
       "      <td>Charlotte</td>\n",
       "      <td>401 W 9th St\\nFourth Ward\\nCharlotte, NC 28202</td>\n",
       "      <td>35.233610</td>\n",
       "      <td>-80.840783</td>\n",
       "      <td>Alexander Michael's</td>\n",
       "      <td>175</td>\n",
       "      <td>4.0</td>\n",
       "      <td>NC</td>\n",
       "      <td>True</td>\n",
       "      <td>full_bar</td>\n",
       "      <td>average</td>\n",
       "      <td>casual</td>\n",
       "      <td>False</td>\n",
       "      <td>True</td>\n",
       "      <td>False</td>\n",
       "      <td>False</td>\n",
       "      <td>True</td>\n",
       "      <td>True</td>\n",
       "      <td>False</td>\n",
       "      <td>True</td>\n",
       "      <td>2</td>\n",
       "      <td>[Cajun/Creole, American (Traditional), Bars, P...</td>\n",
       "    </tr>\n",
       "  </tbody>\n",
       "</table>\n",
       "</div>"
      ],
      "text/plain": [
       "              business_id business_city  \\\n",
       "0  Gw5POFxBRoJxN_ZYhk6lgQ     Charlotte   \n",
       "1  MMgjU4K0D9RLsb7BWEic4g     Charlotte   \n",
       "2  LT0AgHTpDifuHSXgyLmJwg     Charlotte   \n",
       "3  USdRzNk14UdjZWFgBJb0wA     Charlotte   \n",
       "4  ePP0Eqz8JKSbtdt2phiB4A     Charlotte   \n",
       "\n",
       "                               business_full_address  business_latitude  \\\n",
       "0  8706 Pineville-Matthews Road\\nSuite 100\\nCharl...          35.089035   \n",
       "1                  8510 Park Rd\\nCharlotte, NC 28210          35.117183   \n",
       "2                  309 W 4th St\\nCharlotte, NC 28202          35.228193   \n",
       "3  511 N Church St\\nFourth Ward\\nCharlotte, NC 28202          35.231684   \n",
       "4     401 W 9th St\\nFourth Ward\\nCharlotte, NC 28202          35.233610   \n",
       "\n",
       "   business_longitude             business_name  business_review_count  \\\n",
       "0          -80.867055         Bruegger's Bagels                      9   \n",
       "1          -80.857545            Domino's Pizza                      4   \n",
       "2          -80.846592             Green's Lunch                     32   \n",
       "3          -80.839638  McNinch House Restaurant                     25   \n",
       "4          -80.840783       Alexander Michael's                    175   \n",
       "\n",
       "   business_stars business_state business_Take-out business_Alcohol  \\\n",
       "0             4.0             NC              True             none   \n",
       "1             4.5             NC               NaN              NaN   \n",
       "2             3.5             NC              True             none   \n",
       "3             4.5             NC             False         full_bar   \n",
       "4             4.0             NC              True         full_bar   \n",
       "\n",
       "  business_NoiseLevel business_Attire business_Delivery business_HasTV  \\\n",
       "0             average          casual             False          False   \n",
       "1                 NaN             NaN              True            NaN   \n",
       "2             average          casual             False          False   \n",
       "3               quiet          formal             False          False   \n",
       "4             average          casual             False           True   \n",
       "\n",
       "  business_TakesReservations business_WheelchairAccessible  \\\n",
       "0                      False                          True   \n",
       "1                        NaN                           NaN   \n",
       "2                      False                          True   \n",
       "3                       True                           NaN   \n",
       "4                      False                         False   \n",
       "\n",
       "  business_WaiterService business_AcceptsCreditCards business_GoodforKids  \\\n",
       "0                  False                        True                 True   \n",
       "1                    NaN                         NaN                  NaN   \n",
       "2                  False                        True                 True   \n",
       "3                   True                        True                False   \n",
       "4                   True                        True                False   \n",
       "\n",
       "  business_GoodForGroups  business_PriceRange  \\\n",
       "0                   True                    2   \n",
       "1                    NaN                    2   \n",
       "2                   True                    1   \n",
       "3                  False                    4   \n",
       "4                   True                    2   \n",
       "\n",
       "                                 business_categories  \n",
       "0  [Food, Sandwiches, Bagels, Breakfast & Brunch,...  \n",
       "1    [Sandwiches, Pizza, Chicken Wings, Restaurants]  \n",
       "2                            [Hot Dogs, Restaurants]  \n",
       "3    [American (New), Southern, French, Restaurants]  \n",
       "4  [Cajun/Creole, American (Traditional), Bars, P...  "
      ]
     },
     "execution_count": 4,
     "metadata": {},
     "output_type": "execute_result"
    }
   ],
   "source": [
    "print biz_df.shape\n",
    "biz_df.head()"
   ]
  },
  {
   "cell_type": "code",
   "execution_count": 5,
   "metadata": {
    "collapsed": false
   },
   "outputs": [
    {
     "data": {
      "text/plain": [
       "business_id                        0\n",
       "business_city                      0\n",
       "business_full_address              0\n",
       "business_latitude                  0\n",
       "business_longitude                 0\n",
       "business_name                      0\n",
       "business_review_count              0\n",
       "business_stars                     0\n",
       "business_state                     0\n",
       "business_Take-out                 55\n",
       "business_Alcohol                 187\n",
       "business_NoiseLevel              209\n",
       "business_Attire                   78\n",
       "business_Delivery                 89\n",
       "business_HasTV                   142\n",
       "business_TakesReservations        71\n",
       "business_WheelchairAccessible    677\n",
       "business_WaiterService           160\n",
       "business_AcceptsCreditCards       59\n",
       "business_GoodforKids              72\n",
       "business_GoodForGroups            65\n",
       "business_PriceRange               63\n",
       "business_categories                0\n",
       "dtype: int64"
      ]
     },
     "execution_count": 5,
     "metadata": {},
     "output_type": "execute_result"
    }
   ],
   "source": [
    "biz_df.isnull().sum() #Many null values in the 'additional details' fields for the restaurants"
   ]
  },
  {
   "cell_type": "code",
   "execution_count": 6,
   "metadata": {
    "collapsed": false
   },
   "outputs": [
    {
     "data": {
      "text/plain": [
       "(635, 23)"
      ]
     },
     "execution_count": 6,
     "metadata": {},
     "output_type": "execute_result"
    }
   ],
   "source": [
    "biz_df.dropna().shape # Over half of the data set has a null value"
   ]
  },
  {
   "cell_type": "code",
   "execution_count": 7,
   "metadata": {
    "collapsed": false
   },
   "outputs": [
    {
     "data": {
      "text/html": [
       "<div>\n",
       "<table border=\"1\" class=\"dataframe\">\n",
       "  <thead>\n",
       "    <tr style=\"text-align: right;\">\n",
       "      <th></th>\n",
       "      <th>business_latitude</th>\n",
       "      <th>business_longitude</th>\n",
       "      <th>business_review_count</th>\n",
       "      <th>business_stars</th>\n",
       "      <th>business_PriceRange</th>\n",
       "    </tr>\n",
       "  </thead>\n",
       "  <tbody>\n",
       "    <tr>\n",
       "      <th>business_latitude</th>\n",
       "      <td>1.000000</td>\n",
       "      <td>0.215515</td>\n",
       "      <td>-0.013811</td>\n",
       "      <td>-0.003709</td>\n",
       "      <td>-0.065143</td>\n",
       "    </tr>\n",
       "    <tr>\n",
       "      <th>business_longitude</th>\n",
       "      <td>0.215515</td>\n",
       "      <td>1.000000</td>\n",
       "      <td>-0.019010</td>\n",
       "      <td>0.063476</td>\n",
       "      <td>0.015303</td>\n",
       "    </tr>\n",
       "    <tr>\n",
       "      <th>business_review_count</th>\n",
       "      <td>-0.013811</td>\n",
       "      <td>-0.019010</td>\n",
       "      <td>1.000000</td>\n",
       "      <td>0.235096</td>\n",
       "      <td>0.338611</td>\n",
       "    </tr>\n",
       "    <tr>\n",
       "      <th>business_stars</th>\n",
       "      <td>-0.003709</td>\n",
       "      <td>0.063476</td>\n",
       "      <td>0.235096</td>\n",
       "      <td>1.000000</td>\n",
       "      <td>0.084705</td>\n",
       "    </tr>\n",
       "    <tr>\n",
       "      <th>business_PriceRange</th>\n",
       "      <td>-0.065143</td>\n",
       "      <td>0.015303</td>\n",
       "      <td>0.338611</td>\n",
       "      <td>0.084705</td>\n",
       "      <td>1.000000</td>\n",
       "    </tr>\n",
       "  </tbody>\n",
       "</table>\n",
       "</div>"
      ],
      "text/plain": [
       "                       business_latitude  business_longitude  \\\n",
       "business_latitude               1.000000            0.215515   \n",
       "business_longitude              0.215515            1.000000   \n",
       "business_review_count          -0.013811           -0.019010   \n",
       "business_stars                 -0.003709            0.063476   \n",
       "business_PriceRange            -0.065143            0.015303   \n",
       "\n",
       "                       business_review_count  business_stars  \\\n",
       "business_latitude                  -0.013811       -0.003709   \n",
       "business_longitude                 -0.019010        0.063476   \n",
       "business_review_count               1.000000        0.235096   \n",
       "business_stars                      0.235096        1.000000   \n",
       "business_PriceRange                 0.338611        0.084705   \n",
       "\n",
       "                       business_PriceRange  \n",
       "business_latitude                -0.065143  \n",
       "business_longitude                0.015303  \n",
       "business_review_count             0.338611  \n",
       "business_stars                    0.084705  \n",
       "business_PriceRange               1.000000  "
      ]
     },
     "execution_count": 7,
     "metadata": {},
     "output_type": "execute_result"
    }
   ],
   "source": [
    "biz_df.corr()"
   ]
  },
  {
   "cell_type": "markdown",
   "metadata": {},
   "source": [
    "Slight correlation exists between number of stars and review count (0.24) \n",
    "\n",
    "Correlation exists between price range and review count (0.34)\n",
    "\n",
    "Weak correlation between number of stars and price range (0.08)"
   ]
  },
  {
   "cell_type": "code",
   "execution_count": 8,
   "metadata": {
    "collapsed": false
   },
   "outputs": [
    {
     "data": {
      "text/plain": [
       "<matplotlib.colorbar.Colorbar at 0x1129780d0>"
      ]
     },
     "execution_count": 8,
     "metadata": {},
     "output_type": "execute_result"
    },
    {
     "data": {
      "image/png": "[encoded data removed]",
      "text/plain": [
       "<matplotlib.figure.Figure at 0x116313f90>"
      ]
     },
     "metadata": {},
     "output_type": "display_data"
    }
   ],
   "source": [
    "plt.scatter(biz_df['business_longitude'],biz_df['business_latitude'],c=biz_df['business_stars'])\n",
    "plt.colorbar()"
   ]
  },
  {
   "cell_type": "code",
   "execution_count": 9,
   "metadata": {
    "collapsed": false
   },
   "outputs": [
    {
     "data": {
      "text/plain": [
       "<matplotlib.axes._subplots.AxesSubplot at 0x11298c910>"
      ]
     },
     "execution_count": 9,
     "metadata": {},
     "output_type": "execute_result"
    },
    {
     "data": {
      "image/png": "[encoded data removed]",
      "text/plain": [
       "<matplotlib.figure.Figure at 0x112996fd0>"
      ]
     },
     "metadata": {},
     "output_type": "display_data"
    }
   ],
   "source": [
    "biz_df['business_stars'].hist(bins=9)"
   ]
  },
  {
   "cell_type": "code",
   "execution_count": 10,
   "metadata": {
    "collapsed": false
   },
   "outputs": [
    {
     "data": {
      "text/plain": [
       "1    48.370746\n",
       "2    43.301955\n",
       "3     3.403331\n",
       "4     0.362056\n",
       "Name: business_PriceRange, dtype: float64"
      ]
     },
     "execution_count": 10,
     "metadata": {},
     "output_type": "execute_result"
    }
   ],
   "source": [
    "biz_df['business_PriceRange'].value_counts()/len(biz_df)*100 #Percentages by price range"
   ]
  },
  {
   "cell_type": "code",
   "execution_count": 11,
   "metadata": {
    "collapsed": false
   },
   "outputs": [
    {
     "data": {
      "text/plain": [
       "Restaurants              1381\n",
       "FastFood                  181\n",
       "Sandwiches                167\n",
       "American(Traditional)     165\n",
       "Nightlife                 146\n",
       "Bars                      142\n",
       "American(New)             129\n",
       "Burgers                   127\n",
       "Pizza                     126\n",
       "Mexican                   105\n",
       "Chinese                    97\n",
       "Food                       87\n",
       "Italian                    77\n",
       "Breakfast&Brunch           71\n",
       "ChickenWings               68\n",
       "Delis                      61\n",
       "dtype: int64"
      ]
     },
     "execution_count": 11,
     "metadata": {},
     "output_type": "execute_result"
    }
   ],
   "source": [
    "#np.unique(biz_df['business_categories'].str.replace(\"[\",\"\").str.replace(\"]\",\"\").str.split(pat=',',expand=True))\n",
    "biz_df['business_categories'].str.replace(\"[\",\"\").str.replace(\"]\",\"\").str.replace(\" \",\"\").str.split(pat=',',expand=True).stack().value_counts()[:16]"
   ]
  },
  {
   "cell_type": "markdown",
   "metadata": {},
   "source": [
    "In looking at all restaurant categories, American food appears to be the most common "
   ]
  },
  {
   "cell_type": "code",
   "execution_count": 12,
   "metadata": {
    "collapsed": false
   },
   "outputs": [
    {
     "data": {
      "text/plain": [
       "Restaurants              299\n",
       "American(New)             45\n",
       "Nightlife                 35\n",
       "Pizza                     33\n",
       "Bars                      32\n",
       "Italian                   31\n",
       "Food                      26\n",
       "American(Traditional)     26\n",
       "Sandwiches                26\n",
       "Burgers                   24\n",
       "Breakfast&Brunch          22\n",
       "Southern                  21\n",
       "Mexican                   17\n",
       "Vietnamese                12\n",
       "SushiBars                 12\n",
       "Mediterranean             11\n",
       "dtype: int64"
      ]
     },
     "execution_count": 12,
     "metadata": {},
     "output_type": "execute_result"
    }
   ],
   "source": [
    "top_restaurants = biz_df[(biz_df['business_review_count']>=20)&(biz_df['business_stars']>=4.0)]\n",
    "top_restaurants['business_categories'].str.replace(\"[\",\"\").str.replace(\"]\",\"\").str.replace(\" \",\"\").str.split(pat=',',expand=True).stack().value_counts()[:16]"
   ]
  },
  {
   "cell_type": "markdown",
   "metadata": {},
   "source": [
    "When looking at the highly rated restaurants (rated four stars or higher), the prevalence of American food increases"
   ]
  },
  {
   "cell_type": "markdown",
   "metadata": {},
   "source": [
    "### Step 2: Analyze reviewer trends"
   ]
  },
  {
   "cell_type": "code",
   "execution_count": 13,
   "metadata": {
    "collapsed": false
   },
   "outputs": [
    {
     "name": "stdout",
     "output_type": "stream",
     "text": [
      "(16518, 14)\n"
     ]
    },
    {
     "data": {
      "text/html": [
       "<div>\n",
       "<table border=\"1\" class=\"dataframe\">\n",
       "  <thead>\n",
       "    <tr style=\"text-align: right;\">\n",
       "      <th></th>\n",
       "      <th>reviewer_id</th>\n",
       "      <th>reviewer_average_stars</th>\n",
       "      <th>reviewer_fans</th>\n",
       "      <th>reviewer_name</th>\n",
       "      <th>reviewer_review_count</th>\n",
       "      <th>reviewer_yelper_since</th>\n",
       "      <th>reviewer_funny_votes</th>\n",
       "      <th>reviewer_useful_votes</th>\n",
       "      <th>reviewer_cool_votes</th>\n",
       "      <th>reviewer_total_votes</th>\n",
       "      <th>reviewer_num_friends</th>\n",
       "      <th>reviewer_years_elite</th>\n",
       "      <th>reviewer_currently_elite</th>\n",
       "      <th>reviewer_num_compliments</th>\n",
       "    </tr>\n",
       "  </thead>\n",
       "  <tbody>\n",
       "    <tr>\n",
       "      <th>0</th>\n",
       "      <td>whKpnugMnWTz3UjlrN71yg</td>\n",
       "      <td>3.87</td>\n",
       "      <td>15</td>\n",
       "      <td>Todd</td>\n",
       "      <td>291</td>\n",
       "      <td>2007-07</td>\n",
       "      <td>0</td>\n",
       "      <td>0</td>\n",
       "      <td>0</td>\n",
       "      <td>0</td>\n",
       "      <td>113</td>\n",
       "      <td>3</td>\n",
       "      <td>0</td>\n",
       "      <td>314</td>\n",
       "    </tr>\n",
       "    <tr>\n",
       "      <th>1</th>\n",
       "      <td>4522K1jh68XVpUsPh-5I7A</td>\n",
       "      <td>3.80</td>\n",
       "      <td>5</td>\n",
       "      <td>Holly</td>\n",
       "      <td>113</td>\n",
       "      <td>2010-12</td>\n",
       "      <td>0</td>\n",
       "      <td>0</td>\n",
       "      <td>0</td>\n",
       "      <td>0</td>\n",
       "      <td>1</td>\n",
       "      <td>2</td>\n",
       "      <td>0</td>\n",
       "      <td>23</td>\n",
       "    </tr>\n",
       "    <tr>\n",
       "      <th>2</th>\n",
       "      <td>FdaMP9RQHCY7WMFPq80LCg</td>\n",
       "      <td>3.67</td>\n",
       "      <td>6</td>\n",
       "      <td>Brian</td>\n",
       "      <td>401</td>\n",
       "      <td>2011-06</td>\n",
       "      <td>0</td>\n",
       "      <td>0</td>\n",
       "      <td>0</td>\n",
       "      <td>0</td>\n",
       "      <td>45</td>\n",
       "      <td>5</td>\n",
       "      <td>1</td>\n",
       "      <td>113</td>\n",
       "    </tr>\n",
       "    <tr>\n",
       "      <th>3</th>\n",
       "      <td>PM2jXrlVzik1jDwwahLJJQ</td>\n",
       "      <td>3.74</td>\n",
       "      <td>25</td>\n",
       "      <td>Candyce</td>\n",
       "      <td>505</td>\n",
       "      <td>2011-09</td>\n",
       "      <td>0</td>\n",
       "      <td>0</td>\n",
       "      <td>0</td>\n",
       "      <td>0</td>\n",
       "      <td>116</td>\n",
       "      <td>4</td>\n",
       "      <td>1</td>\n",
       "      <td>279</td>\n",
       "    </tr>\n",
       "    <tr>\n",
       "      <th>4</th>\n",
       "      <td>naBs2Kg2KClrKcoRgFE2eA</td>\n",
       "      <td>3.69</td>\n",
       "      <td>5</td>\n",
       "      <td>Elizabeth</td>\n",
       "      <td>108</td>\n",
       "      <td>2012-01</td>\n",
       "      <td>0</td>\n",
       "      <td>0</td>\n",
       "      <td>0</td>\n",
       "      <td>0</td>\n",
       "      <td>34</td>\n",
       "      <td>3</td>\n",
       "      <td>0</td>\n",
       "      <td>48</td>\n",
       "    </tr>\n",
       "  </tbody>\n",
       "</table>\n",
       "</div>"
      ],
      "text/plain": [
       "              reviewer_id  reviewer_average_stars  reviewer_fans  \\\n",
       "0  whKpnugMnWTz3UjlrN71yg                    3.87             15   \n",
       "1  4522K1jh68XVpUsPh-5I7A                    3.80              5   \n",
       "2  FdaMP9RQHCY7WMFPq80LCg                    3.67              6   \n",
       "3  PM2jXrlVzik1jDwwahLJJQ                    3.74             25   \n",
       "4  naBs2Kg2KClrKcoRgFE2eA                    3.69              5   \n",
       "\n",
       "  reviewer_name  reviewer_review_count reviewer_yelper_since  \\\n",
       "0          Todd                    291               2007-07   \n",
       "1         Holly                    113               2010-12   \n",
       "2         Brian                    401               2011-06   \n",
       "3       Candyce                    505               2011-09   \n",
       "4     Elizabeth                    108               2012-01   \n",
       "\n",
       "   reviewer_funny_votes  reviewer_useful_votes  reviewer_cool_votes  \\\n",
       "0                     0                      0                    0   \n",
       "1                     0                      0                    0   \n",
       "2                     0                      0                    0   \n",
       "3                     0                      0                    0   \n",
       "4                     0                      0                    0   \n",
       "\n",
       "   reviewer_total_votes  reviewer_num_friends  reviewer_years_elite  \\\n",
       "0                     0                   113                     3   \n",
       "1                     0                     1                     2   \n",
       "2                     0                    45                     5   \n",
       "3                     0                   116                     4   \n",
       "4                     0                    34                     3   \n",
       "\n",
       "   reviewer_currently_elite  reviewer_num_compliments  \n",
       "0                         0                       314  \n",
       "1                         0                        23  \n",
       "2                         1                       113  \n",
       "3                         1                       279  \n",
       "4                         0                        48  "
      ]
     },
     "execution_count": 13,
     "metadata": {},
     "output_type": "execute_result"
    }
   ],
   "source": [
    "print people_df.shape\n",
    "people_df.head()"
   ]
  },
  {
   "cell_type": "code",
   "execution_count": 14,
   "metadata": {
    "collapsed": false
   },
   "outputs": [],
   "source": [
    "people_df['current_date']=pd.to_datetime(\"2015-01-08\") #Date of most recent review\n",
    "people_df['reviewer_yelper_since'] = pd.to_datetime(people_df['reviewer_yelper_since']+\"-01\")\n",
    "people_df['reviewer_months_as_yelper'] = ((people_df['current_date'] - people_df['reviewer_yelper_since'])/np.timedelta64(1, 'M')).astype(float)\n",
    "people_df['reviewer_reviews_per_month'] = people_df['reviewer_review_count']/people_df['reviewer_months_as_yelper']"
   ]
  },
  {
   "cell_type": "code",
   "execution_count": 15,
   "metadata": {
    "collapsed": false
   },
   "outputs": [
    {
     "data": {
      "text/html": [
       "<div>\n",
       "<table border=\"1\" class=\"dataframe\">\n",
       "  <thead>\n",
       "    <tr style=\"text-align: right;\">\n",
       "      <th></th>\n",
       "      <th>reviewer_average_stars</th>\n",
       "      <th>reviewer_fans</th>\n",
       "      <th>reviewer_review_count</th>\n",
       "      <th>reviewer_funny_votes</th>\n",
       "      <th>reviewer_useful_votes</th>\n",
       "      <th>reviewer_cool_votes</th>\n",
       "      <th>reviewer_total_votes</th>\n",
       "      <th>reviewer_num_friends</th>\n",
       "      <th>reviewer_years_elite</th>\n",
       "      <th>reviewer_currently_elite</th>\n",
       "      <th>reviewer_num_compliments</th>\n",
       "      <th>reviewer_months_as_yelper</th>\n",
       "      <th>reviewer_reviews_per_month</th>\n",
       "    </tr>\n",
       "  </thead>\n",
       "  <tbody>\n",
       "    <tr>\n",
       "      <th>count</th>\n",
       "      <td>16518.000000</td>\n",
       "      <td>16518.000000</td>\n",
       "      <td>16518.000000</td>\n",
       "      <td>16518</td>\n",
       "      <td>16518</td>\n",
       "      <td>16518</td>\n",
       "      <td>16518</td>\n",
       "      <td>16518.000000</td>\n",
       "      <td>16518.000000</td>\n",
       "      <td>16518.000000</td>\n",
       "      <td>16518.000000</td>\n",
       "      <td>16518.000000</td>\n",
       "      <td>16518.000000</td>\n",
       "    </tr>\n",
       "    <tr>\n",
       "      <th>mean</th>\n",
       "      <td>3.709490</td>\n",
       "      <td>2.286233</td>\n",
       "      <td>45.338419</td>\n",
       "      <td>0</td>\n",
       "      <td>0</td>\n",
       "      <td>0</td>\n",
       "      <td>0</td>\n",
       "      <td>8.182347</td>\n",
       "      <td>0.359789</td>\n",
       "      <td>0.059995</td>\n",
       "      <td>34.964160</td>\n",
       "      <td>38.002388</td>\n",
       "      <td>1.038333</td>\n",
       "    </tr>\n",
       "    <tr>\n",
       "      <th>std</th>\n",
       "      <td>0.902253</td>\n",
       "      <td>18.212466</td>\n",
       "      <td>140.627383</td>\n",
       "      <td>0</td>\n",
       "      <td>0</td>\n",
       "      <td>0</td>\n",
       "      <td>0</td>\n",
       "      <td>55.806071</td>\n",
       "      <td>1.199553</td>\n",
       "      <td>0.237485</td>\n",
       "      <td>497.544092</td>\n",
       "      <td>21.942699</td>\n",
       "      <td>2.461923</td>\n",
       "    </tr>\n",
       "    <tr>\n",
       "      <th>min</th>\n",
       "      <td>0.000000</td>\n",
       "      <td>0.000000</td>\n",
       "      <td>0.000000</td>\n",
       "      <td>0</td>\n",
       "      <td>0</td>\n",
       "      <td>0</td>\n",
       "      <td>0</td>\n",
       "      <td>0.000000</td>\n",
       "      <td>0.000000</td>\n",
       "      <td>0.000000</td>\n",
       "      <td>0.000000</td>\n",
       "      <td>0.229984</td>\n",
       "      <td>0.000000</td>\n",
       "    </tr>\n",
       "    <tr>\n",
       "      <th>25%</th>\n",
       "      <td>3.330000</td>\n",
       "      <td>0.000000</td>\n",
       "      <td>3.000000</td>\n",
       "      <td>0</td>\n",
       "      <td>0</td>\n",
       "      <td>0</td>\n",
       "      <td>0</td>\n",
       "      <td>0.000000</td>\n",
       "      <td>0.000000</td>\n",
       "      <td>0.000000</td>\n",
       "      <td>0.000000</td>\n",
       "      <td>20.271463</td>\n",
       "      <td>0.110379</td>\n",
       "    </tr>\n",
       "    <tr>\n",
       "      <th>50%</th>\n",
       "      <td>3.820000</td>\n",
       "      <td>0.000000</td>\n",
       "      <td>8.000000</td>\n",
       "      <td>0</td>\n",
       "      <td>0</td>\n",
       "      <td>0</td>\n",
       "      <td>0</td>\n",
       "      <td>0.000000</td>\n",
       "      <td>0.000000</td>\n",
       "      <td>0.000000</td>\n",
       "      <td>0.000000</td>\n",
       "      <td>36.238937</td>\n",
       "      <td>0.284555</td>\n",
       "    </tr>\n",
       "    <tr>\n",
       "      <th>75%</th>\n",
       "      <td>4.250000</td>\n",
       "      <td>1.000000</td>\n",
       "      <td>26.000000</td>\n",
       "      <td>0</td>\n",
       "      <td>0</td>\n",
       "      <td>0</td>\n",
       "      <td>0</td>\n",
       "      <td>3.000000</td>\n",
       "      <td>0.000000</td>\n",
       "      <td>0.000000</td>\n",
       "      <td>3.000000</td>\n",
       "      <td>52.239266</td>\n",
       "      <td>0.845469</td>\n",
       "    </tr>\n",
       "    <tr>\n",
       "      <th>max</th>\n",
       "      <td>5.000000</td>\n",
       "      <td>1075.000000</td>\n",
       "      <td>4323.000000</td>\n",
       "      <td>0</td>\n",
       "      <td>0</td>\n",
       "      <td>0</td>\n",
       "      <td>0</td>\n",
       "      <td>2720.000000</td>\n",
       "      <td>11.000000</td>\n",
       "      <td>1.000000</td>\n",
       "      <td>41095.000000</td>\n",
       "      <td>123.238670</td>\n",
       "      <td>64.423460</td>\n",
       "    </tr>\n",
       "  </tbody>\n",
       "</table>\n",
       "</div>"
      ],
      "text/plain": [
       "       reviewer_average_stars  reviewer_fans  reviewer_review_count  \\\n",
       "count            16518.000000   16518.000000           16518.000000   \n",
       "mean                 3.709490       2.286233              45.338419   \n",
       "std                  0.902253      18.212466             140.627383   \n",
       "min                  0.000000       0.000000               0.000000   \n",
       "25%                  3.330000       0.000000               3.000000   \n",
       "50%                  3.820000       0.000000               8.000000   \n",
       "75%                  4.250000       1.000000              26.000000   \n",
       "max                  5.000000    1075.000000            4323.000000   \n",
       "\n",
       "       reviewer_funny_votes  reviewer_useful_votes  reviewer_cool_votes  \\\n",
       "count                 16518                  16518                16518   \n",
       "mean                      0                      0                    0   \n",
       "std                       0                      0                    0   \n",
       "min                       0                      0                    0   \n",
       "25%                       0                      0                    0   \n",
       "50%                       0                      0                    0   \n",
       "75%                       0                      0                    0   \n",
       "max                       0                      0                    0   \n",
       "\n",
       "       reviewer_total_votes  reviewer_num_friends  reviewer_years_elite  \\\n",
       "count                 16518          16518.000000          16518.000000   \n",
       "mean                      0              8.182347              0.359789   \n",
       "std                       0             55.806071              1.199553   \n",
       "min                       0              0.000000              0.000000   \n",
       "25%                       0              0.000000              0.000000   \n",
       "50%                       0              0.000000              0.000000   \n",
       "75%                       0              3.000000              0.000000   \n",
       "max                       0           2720.000000             11.000000   \n",
       "\n",
       "       reviewer_currently_elite  reviewer_num_compliments  \\\n",
       "count              16518.000000              16518.000000   \n",
       "mean                   0.059995                 34.964160   \n",
       "std                    0.237485                497.544092   \n",
       "min                    0.000000                  0.000000   \n",
       "25%                    0.000000                  0.000000   \n",
       "50%                    0.000000                  0.000000   \n",
       "75%                    0.000000                  3.000000   \n",
       "max                    1.000000              41095.000000   \n",
       "\n",
       "       reviewer_months_as_yelper  reviewer_reviews_per_month  \n",
       "count               16518.000000                16518.000000  \n",
       "mean                   38.002388                    1.038333  \n",
       "std                    21.942699                    2.461923  \n",
       "min                     0.229984                    0.000000  \n",
       "25%                    20.271463                    0.110379  \n",
       "50%                    36.238937                    0.284555  \n",
       "75%                    52.239266                    0.845469  \n",
       "max                   123.238670                   64.423460  "
      ]
     },
     "execution_count": 15,
     "metadata": {},
     "output_type": "execute_result"
    }
   ],
   "source": [
    "people_df.describe()"
   ]
  },
  {
   "cell_type": "code",
   "execution_count": 16,
   "metadata": {
    "collapsed": false
   },
   "outputs": [
    {
     "data": {
      "text/html": [
       "<div>\n",
       "<table border=\"1\" class=\"dataframe\">\n",
       "  <thead>\n",
       "    <tr style=\"text-align: right;\">\n",
       "      <th></th>\n",
       "      <th>reviewer_id</th>\n",
       "      <th>reviewer_average_stars</th>\n",
       "      <th>reviewer_fans</th>\n",
       "      <th>reviewer_name</th>\n",
       "      <th>reviewer_review_count</th>\n",
       "      <th>reviewer_yelper_since</th>\n",
       "      <th>reviewer_funny_votes</th>\n",
       "      <th>reviewer_useful_votes</th>\n",
       "      <th>reviewer_cool_votes</th>\n",
       "      <th>reviewer_total_votes</th>\n",
       "      <th>reviewer_num_friends</th>\n",
       "      <th>reviewer_years_elite</th>\n",
       "      <th>reviewer_currently_elite</th>\n",
       "      <th>reviewer_num_compliments</th>\n",
       "      <th>current_date</th>\n",
       "      <th>reviewer_months_as_yelper</th>\n",
       "      <th>reviewer_reviews_per_month</th>\n",
       "    </tr>\n",
       "  </thead>\n",
       "  <tbody>\n",
       "    <tr>\n",
       "      <th>0</th>\n",
       "      <td>whKpnugMnWTz3UjlrN71yg</td>\n",
       "      <td>3.87</td>\n",
       "      <td>15</td>\n",
       "      <td>Todd</td>\n",
       "      <td>291</td>\n",
       "      <td>2007-07-01</td>\n",
       "      <td>0</td>\n",
       "      <td>0</td>\n",
       "      <td>0</td>\n",
       "      <td>0</td>\n",
       "      <td>113</td>\n",
       "      <td>3</td>\n",
       "      <td>0</td>\n",
       "      <td>314</td>\n",
       "      <td>2015-01-08</td>\n",
       "      <td>90.285221</td>\n",
       "      <td>3.223119</td>\n",
       "    </tr>\n",
       "    <tr>\n",
       "      <th>1</th>\n",
       "      <td>4522K1jh68XVpUsPh-5I7A</td>\n",
       "      <td>3.80</td>\n",
       "      <td>5</td>\n",
       "      <td>Holly</td>\n",
       "      <td>113</td>\n",
       "      <td>2010-12-01</td>\n",
       "      <td>0</td>\n",
       "      <td>0</td>\n",
       "      <td>0</td>\n",
       "      <td>0</td>\n",
       "      <td>1</td>\n",
       "      <td>2</td>\n",
       "      <td>0</td>\n",
       "      <td>23</td>\n",
       "      <td>2015-01-08</td>\n",
       "      <td>49.249471</td>\n",
       "      <td>2.294441</td>\n",
       "    </tr>\n",
       "    <tr>\n",
       "      <th>2</th>\n",
       "      <td>FdaMP9RQHCY7WMFPq80LCg</td>\n",
       "      <td>3.67</td>\n",
       "      <td>6</td>\n",
       "      <td>Brian</td>\n",
       "      <td>401</td>\n",
       "      <td>2011-06-01</td>\n",
       "      <td>0</td>\n",
       "      <td>0</td>\n",
       "      <td>0</td>\n",
       "      <td>0</td>\n",
       "      <td>45</td>\n",
       "      <td>5</td>\n",
       "      <td>1</td>\n",
       "      <td>113</td>\n",
       "      <td>2015-01-08</td>\n",
       "      <td>43.269882</td>\n",
       "      <td>9.267416</td>\n",
       "    </tr>\n",
       "    <tr>\n",
       "      <th>3</th>\n",
       "      <td>PM2jXrlVzik1jDwwahLJJQ</td>\n",
       "      <td>3.74</td>\n",
       "      <td>25</td>\n",
       "      <td>Candyce</td>\n",
       "      <td>505</td>\n",
       "      <td>2011-09-01</td>\n",
       "      <td>0</td>\n",
       "      <td>0</td>\n",
       "      <td>0</td>\n",
       "      <td>0</td>\n",
       "      <td>116</td>\n",
       "      <td>4</td>\n",
       "      <td>1</td>\n",
       "      <td>279</td>\n",
       "      <td>2015-01-08</td>\n",
       "      <td>40.247233</td>\n",
       "      <td>12.547446</td>\n",
       "    </tr>\n",
       "    <tr>\n",
       "      <th>4</th>\n",
       "      <td>naBs2Kg2KClrKcoRgFE2eA</td>\n",
       "      <td>3.69</td>\n",
       "      <td>5</td>\n",
       "      <td>Elizabeth</td>\n",
       "      <td>108</td>\n",
       "      <td>2012-01-01</td>\n",
       "      <td>0</td>\n",
       "      <td>0</td>\n",
       "      <td>0</td>\n",
       "      <td>0</td>\n",
       "      <td>34</td>\n",
       "      <td>3</td>\n",
       "      <td>0</td>\n",
       "      <td>48</td>\n",
       "      <td>2015-01-08</td>\n",
       "      <td>36.238937</td>\n",
       "      <td>2.980220</td>\n",
       "    </tr>\n",
       "  </tbody>\n",
       "</table>\n",
       "</div>"
      ],
      "text/plain": [
       "              reviewer_id  reviewer_average_stars  reviewer_fans  \\\n",
       "0  whKpnugMnWTz3UjlrN71yg                    3.87             15   \n",
       "1  4522K1jh68XVpUsPh-5I7A                    3.80              5   \n",
       "2  FdaMP9RQHCY7WMFPq80LCg                    3.67              6   \n",
       "3  PM2jXrlVzik1jDwwahLJJQ                    3.74             25   \n",
       "4  naBs2Kg2KClrKcoRgFE2eA                    3.69              5   \n",
       "\n",
       "  reviewer_name  reviewer_review_count reviewer_yelper_since  \\\n",
       "0          Todd                    291            2007-07-01   \n",
       "1         Holly                    113            2010-12-01   \n",
       "2         Brian                    401            2011-06-01   \n",
       "3       Candyce                    505            2011-09-01   \n",
       "4     Elizabeth                    108            2012-01-01   \n",
       "\n",
       "   reviewer_funny_votes  reviewer_useful_votes  reviewer_cool_votes  \\\n",
       "0                     0                      0                    0   \n",
       "1                     0                      0                    0   \n",
       "2                     0                      0                    0   \n",
       "3                     0                      0                    0   \n",
       "4                     0                      0                    0   \n",
       "\n",
       "   reviewer_total_votes  reviewer_num_friends  reviewer_years_elite  \\\n",
       "0                     0                   113                     3   \n",
       "1                     0                     1                     2   \n",
       "2                     0                    45                     5   \n",
       "3                     0                   116                     4   \n",
       "4                     0                    34                     3   \n",
       "\n",
       "   reviewer_currently_elite  reviewer_num_compliments current_date  \\\n",
       "0                         0                       314   2015-01-08   \n",
       "1                         0                        23   2015-01-08   \n",
       "2                         1                       113   2015-01-08   \n",
       "3                         1                       279   2015-01-08   \n",
       "4                         0                        48   2015-01-08   \n",
       "\n",
       "   reviewer_months_as_yelper  reviewer_reviews_per_month  \n",
       "0                  90.285221                    3.223119  \n",
       "1                  49.249471                    2.294441  \n",
       "2                  43.269882                    9.267416  \n",
       "3                  40.247233                   12.547446  \n",
       "4                  36.238937                    2.980220  "
      ]
     },
     "execution_count": 16,
     "metadata": {},
     "output_type": "execute_result"
    }
   ],
   "source": [
    "people_df.head()"
   ]
  },
  {
   "cell_type": "code",
   "execution_count": 17,
   "metadata": {
    "collapsed": false
   },
   "outputs": [
    {
     "data": {
      "text/plain": [
       "<matplotlib.axes._subplots.AxesSubplot at 0x110a84f90>"
      ]
     },
     "execution_count": 17,
     "metadata": {},
     "output_type": "execute_result"
    },
    {
     "data": {
      "image/png": "[encoded data removed]",
      "text/plain": [
       "<matplotlib.figure.Figure at 0x10d3b7190>"
      ]
     },
     "metadata": {},
     "output_type": "display_data"
    }
   ],
   "source": [
    "people_df['reviewer_months_as_yelper'].hist(color='green') #A lot of new yelpers!"
   ]
  },
  {
   "cell_type": "code",
   "execution_count": 18,
   "metadata": {
    "collapsed": false
   },
   "outputs": [
    {
     "data": {
      "text/plain": [
       "<matplotlib.axes._subplots.AxesSubplot at 0x11161a410>"
      ]
     },
     "execution_count": 18,
     "metadata": {},
     "output_type": "execute_result"
    },
    {
     "data": {
      "image/png": "[encoded data removed]",
      "text/plain": [
       "<matplotlib.figure.Figure at 0x111682ad0>"
      ]
     },
     "metadata": {},
     "output_type": "display_data"
    }
   ],
   "source": [
    "people_df['reviewer_reviews_per_month'].hist(bins=50) #Most people have little activity on the service"
   ]
  },
  {
   "cell_type": "code",
   "execution_count": 19,
   "metadata": {
    "collapsed": false
   },
   "outputs": [
    {
     "data": {
      "text/plain": [
       "<matplotlib.axes._subplots.AxesSubplot at 0x112bdf490>"
      ]
     },
     "execution_count": 19,
     "metadata": {},
     "output_type": "execute_result"
    },
    {
     "data": {
      "image/png": "[encoded data removed]",
      "text/plain": [
       "<matplotlib.figure.Figure at 0x112be6b10>"
      ]
     },
     "metadata": {},
     "output_type": "display_data"
    }
   ],
   "source": [
    "people_df['reviewer_average_stars'].hist() #Similar trend to restaurant ratings; mostly above average to great reviews"
   ]
  },
  {
   "cell_type": "code",
   "execution_count": 20,
   "metadata": {
    "collapsed": false
   },
   "outputs": [
    {
     "data": {
      "text/plain": [
       "0.0599951567986439"
      ]
     },
     "execution_count": 20,
     "metadata": {},
     "output_type": "execute_result"
    }
   ],
   "source": [
    "float(people_df['reviewer_currently_elite'].sum())/float(len(people_df)) #Six percent of people are elite"
   ]
  },
  {
   "cell_type": "markdown",
   "metadata": {},
   "source": [
    "### Step 3: Analyze review trends"
   ]
  },
  {
   "cell_type": "code",
   "execution_count": 21,
   "metadata": {
    "collapsed": false
   },
   "outputs": [
    {
     "data": {
      "text/html": [
       "<div>\n",
       "<table border=\"1\" class=\"dataframe\">\n",
       "  <thead>\n",
       "    <tr style=\"text-align: right;\">\n",
       "      <th></th>\n",
       "      <th>review_date</th>\n",
       "      <th>review_id</th>\n",
       "      <th>review_stars</th>\n",
       "      <th>review_text</th>\n",
       "      <th>review_funny_votes</th>\n",
       "      <th>review_useful_votes</th>\n",
       "      <th>review_cool_votes</th>\n",
       "      <th>review_total_votes</th>\n",
       "      <th>reviewer_id</th>\n",
       "      <th>business_id</th>\n",
       "    </tr>\n",
       "  </thead>\n",
       "  <tbody>\n",
       "    <tr>\n",
       "      <th>0</th>\n",
       "      <td>2010-12-31</td>\n",
       "      <td>5jK4kzMbk5_2uFlW6SBqdQ</td>\n",
       "      <td>4</td>\n",
       "      <td>In the Pineville area and need a quick breakfa...</td>\n",
       "      <td>1</td>\n",
       "      <td>1</td>\n",
       "      <td>1</td>\n",
       "      <td>3</td>\n",
       "      <td>whKpnugMnWTz3UjlrN71yg</td>\n",
       "      <td>Gw5POFxBRoJxN_ZYhk6lgQ</td>\n",
       "    </tr>\n",
       "    <tr>\n",
       "      <th>1</th>\n",
       "      <td>2011-07-18</td>\n",
       "      <td>GLBryAnx1thVohzWc1nV_A</td>\n",
       "      <td>5</td>\n",
       "      <td>I came here for the first time and was so happ...</td>\n",
       "      <td>0</td>\n",
       "      <td>0</td>\n",
       "      <td>0</td>\n",
       "      <td>0</td>\n",
       "      <td>4522K1jh68XVpUsPh-5I7A</td>\n",
       "      <td>Gw5POFxBRoJxN_ZYhk6lgQ</td>\n",
       "    </tr>\n",
       "    <tr>\n",
       "      <th>2</th>\n",
       "      <td>2011-07-29</td>\n",
       "      <td>EHERBq_z1IdCvU56L32nVQ</td>\n",
       "      <td>4</td>\n",
       "      <td>I would definitely need some bad service for a...</td>\n",
       "      <td>0</td>\n",
       "      <td>0</td>\n",
       "      <td>0</td>\n",
       "      <td>0</td>\n",
       "      <td>FdaMP9RQHCY7WMFPq80LCg</td>\n",
       "      <td>Gw5POFxBRoJxN_ZYhk6lgQ</td>\n",
       "    </tr>\n",
       "    <tr>\n",
       "      <th>3</th>\n",
       "      <td>2012-09-19</td>\n",
       "      <td>ZXPMc6Lc4V7nqknsJ13u9A</td>\n",
       "      <td>4</td>\n",
       "      <td>This place is an awesome!\\n\\nThe bagels are fr...</td>\n",
       "      <td>0</td>\n",
       "      <td>0</td>\n",
       "      <td>0</td>\n",
       "      <td>0</td>\n",
       "      <td>PM2jXrlVzik1jDwwahLJJQ</td>\n",
       "      <td>Gw5POFxBRoJxN_ZYhk6lgQ</td>\n",
       "    </tr>\n",
       "    <tr>\n",
       "      <th>4</th>\n",
       "      <td>2012-12-29</td>\n",
       "      <td>DttWnjejrfXUDiZzC0aFAg</td>\n",
       "      <td>3</td>\n",
       "      <td>I have mixed feelings about Bruegger's but I s...</td>\n",
       "      <td>0</td>\n",
       "      <td>0</td>\n",
       "      <td>0</td>\n",
       "      <td>0</td>\n",
       "      <td>naBs2Kg2KClrKcoRgFE2eA</td>\n",
       "      <td>Gw5POFxBRoJxN_ZYhk6lgQ</td>\n",
       "    </tr>\n",
       "  </tbody>\n",
       "</table>\n",
       "</div>"
      ],
      "text/plain": [
       "  review_date               review_id  review_stars  \\\n",
       "0  2010-12-31  5jK4kzMbk5_2uFlW6SBqdQ             4   \n",
       "1  2011-07-18  GLBryAnx1thVohzWc1nV_A             5   \n",
       "2  2011-07-29  EHERBq_z1IdCvU56L32nVQ             4   \n",
       "3  2012-09-19  ZXPMc6Lc4V7nqknsJ13u9A             4   \n",
       "4  2012-12-29  DttWnjejrfXUDiZzC0aFAg             3   \n",
       "\n",
       "                                         review_text  review_funny_votes  \\\n",
       "0  In the Pineville area and need a quick breakfa...                   1   \n",
       "1  I came here for the first time and was so happ...                   0   \n",
       "2  I would definitely need some bad service for a...                   0   \n",
       "3  This place is an awesome!\\n\\nThe bagels are fr...                   0   \n",
       "4  I have mixed feelings about Bruegger's but I s...                   0   \n",
       "\n",
       "   review_useful_votes  review_cool_votes  review_total_votes  \\\n",
       "0                    1                  1                   3   \n",
       "1                    0                  0                   0   \n",
       "2                    0                  0                   0   \n",
       "3                    0                  0                   0   \n",
       "4                    0                  0                   0   \n",
       "\n",
       "              reviewer_id             business_id  \n",
       "0  whKpnugMnWTz3UjlrN71yg  Gw5POFxBRoJxN_ZYhk6lgQ  \n",
       "1  4522K1jh68XVpUsPh-5I7A  Gw5POFxBRoJxN_ZYhk6lgQ  \n",
       "2  FdaMP9RQHCY7WMFPq80LCg  Gw5POFxBRoJxN_ZYhk6lgQ  \n",
       "3  PM2jXrlVzik1jDwwahLJJQ  Gw5POFxBRoJxN_ZYhk6lgQ  \n",
       "4  naBs2Kg2KClrKcoRgFE2eA  Gw5POFxBRoJxN_ZYhk6lgQ  "
      ]
     },
     "execution_count": 21,
     "metadata": {},
     "output_type": "execute_result"
    }
   ],
   "source": [
    "reviews_df.head()"
   ]
  },
  {
   "cell_type": "code",
   "execution_count": 22,
   "metadata": {
    "collapsed": false
   },
   "outputs": [
    {
     "data": {
      "text/html": [
       "<div>\n",
       "<table border=\"1\" class=\"dataframe\">\n",
       "  <thead>\n",
       "    <tr style=\"text-align: right;\">\n",
       "      <th></th>\n",
       "      <th>review_stars</th>\n",
       "      <th>review_funny_votes</th>\n",
       "      <th>review_useful_votes</th>\n",
       "      <th>review_cool_votes</th>\n",
       "      <th>review_total_votes</th>\n",
       "    </tr>\n",
       "  </thead>\n",
       "  <tbody>\n",
       "    <tr>\n",
       "      <th>count</th>\n",
       "      <td>54222.000000</td>\n",
       "      <td>54222.000000</td>\n",
       "      <td>54222.000000</td>\n",
       "      <td>54222.000000</td>\n",
       "      <td>54222.000000</td>\n",
       "    </tr>\n",
       "    <tr>\n",
       "      <th>mean</th>\n",
       "      <td>3.706189</td>\n",
       "      <td>0.332780</td>\n",
       "      <td>0.867065</td>\n",
       "      <td>0.401166</td>\n",
       "      <td>1.601011</td>\n",
       "    </tr>\n",
       "    <tr>\n",
       "      <th>std</th>\n",
       "      <td>1.187673</td>\n",
       "      <td>0.926539</td>\n",
       "      <td>1.473043</td>\n",
       "      <td>0.963986</td>\n",
       "      <td>2.973489</td>\n",
       "    </tr>\n",
       "    <tr>\n",
       "      <th>min</th>\n",
       "      <td>1.000000</td>\n",
       "      <td>0.000000</td>\n",
       "      <td>0.000000</td>\n",
       "      <td>0.000000</td>\n",
       "      <td>0.000000</td>\n",
       "    </tr>\n",
       "    <tr>\n",
       "      <th>25%</th>\n",
       "      <td>3.000000</td>\n",
       "      <td>0.000000</td>\n",
       "      <td>0.000000</td>\n",
       "      <td>0.000000</td>\n",
       "      <td>0.000000</td>\n",
       "    </tr>\n",
       "    <tr>\n",
       "      <th>50%</th>\n",
       "      <td>4.000000</td>\n",
       "      <td>0.000000</td>\n",
       "      <td>0.000000</td>\n",
       "      <td>0.000000</td>\n",
       "      <td>0.000000</td>\n",
       "    </tr>\n",
       "    <tr>\n",
       "      <th>75%</th>\n",
       "      <td>5.000000</td>\n",
       "      <td>0.000000</td>\n",
       "      <td>1.000000</td>\n",
       "      <td>0.000000</td>\n",
       "      <td>2.000000</td>\n",
       "    </tr>\n",
       "    <tr>\n",
       "      <th>max</th>\n",
       "      <td>5.000000</td>\n",
       "      <td>23.000000</td>\n",
       "      <td>40.000000</td>\n",
       "      <td>40.000000</td>\n",
       "      <td>82.000000</td>\n",
       "    </tr>\n",
       "  </tbody>\n",
       "</table>\n",
       "</div>"
      ],
      "text/plain": [
       "       review_stars  review_funny_votes  review_useful_votes  \\\n",
       "count  54222.000000        54222.000000         54222.000000   \n",
       "mean       3.706189            0.332780             0.867065   \n",
       "std        1.187673            0.926539             1.473043   \n",
       "min        1.000000            0.000000             0.000000   \n",
       "25%        3.000000            0.000000             0.000000   \n",
       "50%        4.000000            0.000000             0.000000   \n",
       "75%        5.000000            0.000000             1.000000   \n",
       "max        5.000000           23.000000            40.000000   \n",
       "\n",
       "       review_cool_votes  review_total_votes  \n",
       "count       54222.000000        54222.000000  \n",
       "mean            0.401166            1.601011  \n",
       "std             0.963986            2.973489  \n",
       "min             0.000000            0.000000  \n",
       "25%             0.000000            0.000000  \n",
       "50%             0.000000            0.000000  \n",
       "75%             0.000000            2.000000  \n",
       "max            40.000000           82.000000  "
      ]
     },
     "execution_count": 22,
     "metadata": {},
     "output_type": "execute_result"
    }
   ],
   "source": [
    "reviews_df.describe()"
   ]
  },
  {
   "cell_type": "code",
   "execution_count": 23,
   "metadata": {
    "collapsed": false
   },
   "outputs": [
    {
     "data": {
      "text/plain": [
       "<matplotlib.axes._subplots.AxesSubplot at 0x112c4f5d0>"
      ]
     },
     "execution_count": 23,
     "metadata": {},
     "output_type": "execute_result"
    },
    {
     "data": {
      "image/png": "[encoded data removed]",
      "text/plain": [
       "<matplotlib.figure.Figure at 0x112771c50>"
      ]
     },
     "metadata": {},
     "output_type": "display_data"
    }
   ],
   "source": [
    "#reviews_df[['review_date','review_id']].groupby('review_date').count().plot(kind='line')\n",
    "reviews_df['review_date'] = pd.to_datetime(reviews_df['review_date'])\n",
    "reviews_df[['review_date','review_id']].set_index('review_date').resample('M','count').plot()"
   ]
  },
  {
   "cell_type": "markdown",
   "metadata": {},
   "source": [
    "Number of reviews has grown over time"
   ]
  },
  {
   "cell_type": "code",
   "execution_count": 24,
   "metadata": {
    "collapsed": false
   },
   "outputs": [
    {
     "data": {
      "text/plain": [
       "<matplotlib.axes._subplots.AxesSubplot at 0x114d45810>"
      ]
     },
     "execution_count": 24,
     "metadata": {},
     "output_type": "execute_result"
    },
    {
     "data": {
      "image/png": "[encoded data removed]",
      "text/plain": [
       "<matplotlib.figure.Figure at 0x114d50910>"
      ]
     },
     "metadata": {},
     "output_type": "display_data"
    }
   ],
   "source": [
    "reviews_df['review_stars'].hist(bins=5)"
   ]
  },
  {
   "cell_type": "code",
   "execution_count": null,
   "metadata": {
    "collapsed": true
   },
   "outputs": [],
   "source": []
  }
 ],
 "metadata": {
  "kernelspec": {
   "display_name": "Python 2",
   "language": "python",
   "name": "python2"
  },
  "language_info": {
   "codemirror_mode": {
    "name": "ipython",
    "version": 2
   },
   "file_extension": ".py",
   "mimetype": "text/x-python",
   "name": "python",
   "nbconvert_exporter": "python",
   "pygments_lexer": "ipython2",
   "version": "2.7.11"
  }
 },
 "nbformat": 4,
 "nbformat_minor": 0
}
