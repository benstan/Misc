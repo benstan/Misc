{
 "cells": [
  {
   "cell_type": "markdown",
   "metadata": {},
   "source": [
    "## Step 1. Explore data set"
   ]
  },
  {
   "cell_type": "code",
   "execution_count": 1,
   "metadata": {
    "collapsed": true
   },
   "outputs": [],
   "source": [
    "import pandas as pd\n",
    "import numpy as np\n",
    "import matplotlib.pyplot as plt\n",
    "%matplotlib inline\n",
    "pd.set_option('display.max_columns', None)\n",
    "from pandas.io import sql\n",
    "import sqlite3\n",
    "import scipy\n",
    "from scipy import stats"
   ]
  },
  {
   "cell_type": "code",
   "execution_count": 2,
   "metadata": {
    "collapsed": false
   },
   "outputs": [],
   "source": [
    "test_data = pd.read_csv(\"case_study_dataset.csv\")"
   ]
  },
  {
   "cell_type": "code",
   "execution_count": 3,
   "metadata": {
    "collapsed": false
   },
   "outputs": [
    {
     "name": "stdout",
     "output_type": "stream",
     "text": [
      "(500000, 11)\n"
     ]
    },
    {
     "data": {
      "text/html": [
       "<div>\n",
       "<table border=\"1\" class=\"dataframe\">\n",
       "  <thead>\n",
       "    <tr style=\"text-align: right;\">\n",
       "      <th></th>\n",
       "      <th>vuid</th>\n",
       "      <th>param_value</th>\n",
       "      <th>browser_name</th>\n",
       "      <th>browser_capability</th>\n",
       "      <th>total_play</th>\n",
       "      <th>gross_secs_played</th>\n",
       "      <th>comment</th>\n",
       "      <th>like</th>\n",
       "      <th>follow</th>\n",
       "      <th>share</th>\n",
       "      <th>login</th>\n",
       "    </tr>\n",
       "  </thead>\n",
       "  <tbody>\n",
       "    <tr>\n",
       "      <th>0</th>\n",
       "      <td>698785.073800</td>\n",
       "      <td>1</td>\n",
       "      <td>chrome</td>\n",
       "      <td>desktop</td>\n",
       "      <td>0</td>\n",
       "      <td>0.00</td>\n",
       "      <td>0</td>\n",
       "      <td>0</td>\n",
       "      <td>0</td>\n",
       "      <td>0</td>\n",
       "      <td>0</td>\n",
       "    </tr>\n",
       "    <tr>\n",
       "      <th>1</th>\n",
       "      <td>276157.069243</td>\n",
       "      <td>1</td>\n",
       "      <td>chrome</td>\n",
       "      <td>desktop</td>\n",
       "      <td>2</td>\n",
       "      <td>101.96</td>\n",
       "      <td>0</td>\n",
       "      <td>0</td>\n",
       "      <td>0</td>\n",
       "      <td>1</td>\n",
       "      <td>0</td>\n",
       "    </tr>\n",
       "    <tr>\n",
       "      <th>2</th>\n",
       "      <td>2465.577620</td>\n",
       "      <td>1</td>\n",
       "      <td>firefox</td>\n",
       "      <td>desktop</td>\n",
       "      <td>0</td>\n",
       "      <td>0.00</td>\n",
       "      <td>0</td>\n",
       "      <td>0</td>\n",
       "      <td>0</td>\n",
       "      <td>0</td>\n",
       "      <td>0</td>\n",
       "    </tr>\n",
       "    <tr>\n",
       "      <th>3</th>\n",
       "      <td>517481.191739</td>\n",
       "      <td>1</td>\n",
       "      <td>chrome</td>\n",
       "      <td>desktop</td>\n",
       "      <td>0</td>\n",
       "      <td>0.00</td>\n",
       "      <td>0</td>\n",
       "      <td>0</td>\n",
       "      <td>0</td>\n",
       "      <td>0</td>\n",
       "      <td>0</td>\n",
       "    </tr>\n",
       "    <tr>\n",
       "      <th>4</th>\n",
       "      <td>287185.465177</td>\n",
       "      <td>2</td>\n",
       "      <td>chrome</td>\n",
       "      <td>desktop</td>\n",
       "      <td>0</td>\n",
       "      <td>0.00</td>\n",
       "      <td>0</td>\n",
       "      <td>0</td>\n",
       "      <td>0</td>\n",
       "      <td>0</td>\n",
       "      <td>0</td>\n",
       "    </tr>\n",
       "  </tbody>\n",
       "</table>\n",
       "</div>"
      ],
      "text/plain": [
       "            vuid  param_value browser_name browser_capability  total_play  \\\n",
       "0  698785.073800            1       chrome            desktop           0   \n",
       "1  276157.069243            1       chrome            desktop           2   \n",
       "2    2465.577620            1      firefox            desktop           0   \n",
       "3  517481.191739            1       chrome            desktop           0   \n",
       "4  287185.465177            2       chrome            desktop           0   \n",
       "\n",
       "   gross_secs_played  comment  like  follow  share  login  \n",
       "0               0.00        0     0       0      0      0  \n",
       "1             101.96        0     0       0      1      0  \n",
       "2               0.00        0     0       0      0      0  \n",
       "3               0.00        0     0       0      0      0  \n",
       "4               0.00        0     0       0      0      0  "
      ]
     },
     "execution_count": 3,
     "metadata": {},
     "output_type": "execute_result"
    }
   ],
   "source": [
    "print test_data.shape\n",
    "test_data.head()"
   ]
  },
  {
   "cell_type": "code",
   "execution_count": 4,
   "metadata": {
    "collapsed": false
   },
   "outputs": [
    {
     "data": {
      "text/plain": [
       "vuid                  0\n",
       "param_value           0\n",
       "browser_name          0\n",
       "browser_capability    0\n",
       "total_play            0\n",
       "gross_secs_played     0\n",
       "comment               0\n",
       "like                  0\n",
       "follow                0\n",
       "share                 0\n",
       "login                 0\n",
       "dtype: int64"
      ]
     },
     "execution_count": 4,
     "metadata": {},
     "output_type": "execute_result"
    }
   ],
   "source": [
    "test_data.isnull().sum() # No null values"
   ]
  },
  {
   "cell_type": "code",
   "execution_count": 5,
   "metadata": {
    "collapsed": true
   },
   "outputs": [],
   "source": [
    "conn = sqlite3.connect('vimeo.db', detect_types=sqlite3.PARSE_DECLTYPES)\n",
    "test_data.to_sql('test_data',\n",
    "            con=conn,\n",
    "            if_exists='replace',\n",
    "            index=False)"
   ]
  },
  {
   "cell_type": "code",
   "execution_count": 6,
   "metadata": {
    "collapsed": false
   },
   "outputs": [
    {
     "data": {
      "text/html": [
       "<div>\n",
       "<table border=\"1\" class=\"dataframe\">\n",
       "  <thead>\n",
       "    <tr style=\"text-align: right;\">\n",
       "      <th></th>\n",
       "      <th>param_value</th>\n",
       "      <th>num_visitors</th>\n",
       "      <th>num_viewed_video</th>\n",
       "      <th>num_comments</th>\n",
       "      <th>num_likes</th>\n",
       "      <th>num_follows</th>\n",
       "      <th>num_shares</th>\n",
       "      <th>num_logins</th>\n",
       "      <th>average_num_videos</th>\n",
       "      <th>average_time_watching</th>\n",
       "      <th>percent_viewed_video</th>\n",
       "      <th>percent_comment</th>\n",
       "      <th>percent_like</th>\n",
       "      <th>percent_follow</th>\n",
       "      <th>percent_share</th>\n",
       "      <th>percent_login</th>\n",
       "    </tr>\n",
       "  </thead>\n",
       "  <tbody>\n",
       "    <tr>\n",
       "      <th>0</th>\n",
       "      <td>1</td>\n",
       "      <td>452357</td>\n",
       "      <td>76554</td>\n",
       "      <td>117</td>\n",
       "      <td>844</td>\n",
       "      <td>411</td>\n",
       "      <td>1625</td>\n",
       "      <td>1004</td>\n",
       "      <td>0.574438</td>\n",
       "      <td>112.059166</td>\n",
       "      <td>16.923359</td>\n",
       "      <td>0.025865</td>\n",
       "      <td>0.186578</td>\n",
       "      <td>0.090857</td>\n",
       "      <td>0.359230</td>\n",
       "      <td>0.221949</td>\n",
       "    </tr>\n",
       "    <tr>\n",
       "      <th>1</th>\n",
       "      <td>2</td>\n",
       "      <td>23886</td>\n",
       "      <td>3566</td>\n",
       "      <td>8</td>\n",
       "      <td>42</td>\n",
       "      <td>25</td>\n",
       "      <td>101</td>\n",
       "      <td>42</td>\n",
       "      <td>0.504773</td>\n",
       "      <td>94.942602</td>\n",
       "      <td>14.929247</td>\n",
       "      <td>0.033492</td>\n",
       "      <td>0.175835</td>\n",
       "      <td>0.104664</td>\n",
       "      <td>0.422842</td>\n",
       "      <td>0.175835</td>\n",
       "    </tr>\n",
       "    <tr>\n",
       "      <th>2</th>\n",
       "      <td>3</td>\n",
       "      <td>23757</td>\n",
       "      <td>3697</td>\n",
       "      <td>6</td>\n",
       "      <td>57</td>\n",
       "      <td>46</td>\n",
       "      <td>108</td>\n",
       "      <td>59</td>\n",
       "      <td>0.521320</td>\n",
       "      <td>97.543716</td>\n",
       "      <td>15.561729</td>\n",
       "      <td>0.025256</td>\n",
       "      <td>0.239929</td>\n",
       "      <td>0.193627</td>\n",
       "      <td>0.454603</td>\n",
       "      <td>0.248348</td>\n",
       "    </tr>\n",
       "  </tbody>\n",
       "</table>\n",
       "</div>"
      ],
      "text/plain": [
       "   param_value  num_visitors  num_viewed_video  num_comments  num_likes  \\\n",
       "0            1        452357             76554           117        844   \n",
       "1            2         23886              3566             8         42   \n",
       "2            3         23757              3697             6         57   \n",
       "\n",
       "   num_follows  num_shares  num_logins  average_num_videos  \\\n",
       "0          411        1625        1004            0.574438   \n",
       "1           25         101          42            0.504773   \n",
       "2           46         108          59            0.521320   \n",
       "\n",
       "   average_time_watching  percent_viewed_video  percent_comment  percent_like  \\\n",
       "0             112.059166             16.923359         0.025865      0.186578   \n",
       "1              94.942602             14.929247         0.033492      0.175835   \n",
       "2              97.543716             15.561729         0.025256      0.239929   \n",
       "\n",
       "   percent_follow  percent_share  percent_login  \n",
       "0        0.090857       0.359230       0.221949  \n",
       "1        0.104664       0.422842       0.175835  \n",
       "2        0.193627       0.454603       0.248348  "
      ]
     },
     "execution_count": 6,
     "metadata": {},
     "output_type": "execute_result"
    }
   ],
   "source": [
    "# Create table of results\n",
    "variant_binary_results=sql.read_sql(\"\"\"\n",
    "SELECT\n",
    "param_value,\n",
    "COUNT(param_value) AS num_visitors,\n",
    "SUM(CASE WHEN total_play>=1 THEN 1 ELSE 0 END) AS num_viewed_video,\n",
    "SUM(CASE WHEN comment>=1 THEN 1 ELSE 0 END) AS num_comments,\n",
    "SUM(CASE WHEN like>=1 THEN 1 ELSE 0 END) AS num_likes,\n",
    "SUM(CASE WHEN follow>=1 THEN 1 ELSE 0 END) AS num_follows,\n",
    "SUM(CASE WHEN share>=1 THEN 1 ELSE 0 END) AS num_shares,\n",
    "SUM(CASE WHEN login>=1 THEN 1 ELSE 0 END) AS num_logins,\n",
    "AVG(total_play) AS average_num_videos,\n",
    "AVG(gross_secs_played) AS average_time_watching\n",
    "\n",
    "FROM\n",
    "test_data\n",
    "\n",
    "GROUP BY 1\n",
    "\"\"\", con=conn)\n",
    "variant_binary_results['percent_viewed_video'] = variant_binary_results['num_viewed_video']/variant_binary_results['num_visitors']*100\n",
    "variant_binary_results['percent_comment'] = variant_binary_results['num_comments']/variant_binary_results['num_visitors']*100\n",
    "variant_binary_results['percent_like'] = variant_binary_results['num_likes']/variant_binary_results['num_visitors']*100\n",
    "variant_binary_results['percent_follow'] = variant_binary_results['num_follows']/variant_binary_results['num_visitors']*100\n",
    "variant_binary_results['percent_share'] = variant_binary_results['num_shares']/variant_binary_results['num_visitors']*100\n",
    "variant_binary_results['percent_login'] = variant_binary_results['num_logins']/variant_binary_results['num_visitors']*100\n",
    "variant_binary_results"
   ]
  },
  {
   "cell_type": "markdown",
   "metadata": {},
   "source": [
    "## Step 2. Compare values for binary outcomes and determine whether differences are statistically significant"
   ]
  },
  {
   "cell_type": "code",
   "execution_count": 7,
   "metadata": {
    "collapsed": false,
    "scrolled": true
   },
   "outputs": [
    {
     "name": "stdout",
     "output_type": "stream",
     "text": [
      "Test p values for variation 2:\n",
      "num_viewed_video 1.05172578194e-15\n",
      "num_comments 0.614008150604\n",
      "num_likes 0.765333911254\n",
      "num_follows 0.563359053523\n",
      "num_shares 0.123743661044\n",
      "num_logins 0.157712181227\n"
     ]
    }
   ],
   "source": [
    "visitors_var1 = variant_binary_results['num_visitors'][variant_binary_results['param_value']==1].values\n",
    "visitors_var2 = variant_binary_results['num_visitors'][variant_binary_results['param_value']==2].values\n",
    "print \"Test p values for variation 2:\"\n",
    "for i in ['num_viewed_video','num_comments','num_likes','num_follows','num_shares','num_logins']:\n",
    "    target_performers1 = variant_binary_results[i][variant_binary_results['param_value']==1].values\n",
    "    target_performers2 = variant_binary_results[i][variant_binary_results['param_value']==2].values\n",
    "    _,p_val,_,_ = scipy.stats.chi2_contingency([[visitors_var1-target_performers1,target_performers1],\n",
    "                                                [visitors_var2-target_performers2,target_performers2]])\n",
    "    print i,p_val"
   ]
  },
  {
   "cell_type": "code",
   "execution_count": 8,
   "metadata": {
    "collapsed": false,
    "scrolled": true
   },
   "outputs": [
    {
     "name": "stdout",
     "output_type": "stream",
     "text": [
      "Test p values for variation 3:\n",
      "num_viewed_video 6.30253290489e-09\n",
      "num_comments 0.891247277683\n",
      "num_likes 0.0839919255319\n",
      "num_follows 1.28906419529e-06\n",
      "num_shares 0.0232536543734\n",
      "num_logins 0.465724698528\n"
     ]
    }
   ],
   "source": [
    "visitors_var1 = variant_binary_results['num_visitors'][variant_binary_results['param_value']==1].values\n",
    "visitors_var3 = variant_binary_results['num_visitors'][variant_binary_results['param_value']==3].values\n",
    "print \"Test p values for variation 3:\"\n",
    "for i in ['num_viewed_video','num_comments','num_likes','num_follows','num_shares','num_logins']:\n",
    "    target_performers1 = variant_binary_results[i][variant_binary_results['param_value']==1].values\n",
    "    target_performers3 = variant_binary_results[i][variant_binary_results['param_value']==3].values\n",
    "    _,p_val,_,_ = scipy.stats.chi2_contingency([[visitors_var1-target_performers1,target_performers1],\n",
    "                                                [visitors_var2-target_performers3,target_performers3]])\n",
    "    print i,p_val"
   ]
  },
  {
   "cell_type": "markdown",
   "metadata": {},
   "source": [
    "#### Based on these significance tests, variation 1 had a significantly higher percentage of visitors who watched a video. Variation 3 had a significantly higher percentage of users that 'followed' and 'shared'."
   ]
  },
  {
   "cell_type": "markdown",
   "metadata": {},
   "source": [
    "## Step 3. Compare values for continuous outcomes and determine whether differences are statistically significant"
   ]
  },
  {
   "cell_type": "code",
   "execution_count": 9,
   "metadata": {
    "collapsed": false
   },
   "outputs": [],
   "source": [
    "sec_var1 = test_data['gross_secs_played'][test_data.param_value==1].copy()\n",
    "sec_var2 = test_data['gross_secs_played'][test_data.param_value==2].copy()\n",
    "sec_var3 = test_data['gross_secs_played'][test_data.param_value==3].copy()"
   ]
  },
  {
   "cell_type": "code",
   "execution_count": 10,
   "metadata": {
    "collapsed": false
   },
   "outputs": [
    {
     "name": "stdout",
     "output_type": "stream",
     "text": [
      "When comparing gross play time for variations 1 and 2, the t-statistic is 2.913 and the p-value is 0.004.\n"
     ]
    }
   ],
   "source": [
    "two_sample_1 = stats.ttest_ind(sec_var1.values, sec_var2.values,equal_var=False)\n",
    "print \"When comparing gross play time for variations 1 and 2, the t-statistic is %.3f and the p-value is %.3f.\" % two_sample_1"
   ]
  },
  {
   "cell_type": "code",
   "execution_count": 11,
   "metadata": {
    "collapsed": false
   },
   "outputs": [
    {
     "name": "stdout",
     "output_type": "stream",
     "text": [
      "When comparing gross play time for variations 1 and 3, the t-statistic is 2.514 and the p-value is 0.012.\n"
     ]
    }
   ],
   "source": [
    "two_sample_2 = stats.ttest_ind(sec_var1.values, sec_var3.values, equal_var=False)\n",
    "print \"When comparing gross play time for variations 1 and 3, the t-statistic is %.3f and the p-value is %.3f.\" % two_sample_2"
   ]
  },
  {
   "cell_type": "markdown",
   "metadata": {},
   "source": [
    "#### Based on these two sample t-tests, variation 1 had a statistically higher average play time compared to variations 2 and 3"
   ]
  },
  {
   "cell_type": "code",
   "execution_count": 12,
   "metadata": {
    "collapsed": true
   },
   "outputs": [],
   "source": [
    "vid_var1 = test_data['total_play'][test_data.param_value==1].copy()\n",
    "vid_var2 = test_data['total_play'][test_data.param_value==2].copy()\n",
    "vid_var3 = test_data['total_play'][test_data.param_value==3].copy()"
   ]
  },
  {
   "cell_type": "code",
   "execution_count": 13,
   "metadata": {
    "collapsed": false
   },
   "outputs": [
    {
     "name": "stdout",
     "output_type": "stream",
     "text": [
      "When comparing number of plays for variations 1 and 2, the t-statistic is 3.078 and the p-value is 0.002.\n"
     ]
    }
   ],
   "source": [
    "two_sample_3 = stats.ttest_ind(vid_var1.values, vid_var2.values,equal_var=False)\n",
    "print \"When comparing number of plays for variations 1 and 2, the t-statistic is %.3f and the p-value is %.3f.\" % two_sample_3"
   ]
  },
  {
   "cell_type": "code",
   "execution_count": 14,
   "metadata": {
    "collapsed": false
   },
   "outputs": [
    {
     "name": "stdout",
     "output_type": "stream",
     "text": [
      "When comparing number of plays for variations 1 and 3, the t-statistic is 2.188 and the p-value is 0.029.\n"
     ]
    }
   ],
   "source": [
    "two_sample_4 = stats.ttest_ind(vid_var1.values, vid_var3.values, equal_var=False)\n",
    "print \"When comparing number of plays for variations 1 and 3, the t-statistic is %.3f and the p-value is %.3f.\" % two_sample_4"
   ]
  },
  {
   "cell_type": "markdown",
   "metadata": {},
   "source": [
    "#### Based on these two sample t-tests, variation 1 had a statistically higher average number of videos watched compared to variations 2 and 3"
   ]
  },
  {
   "cell_type": "code",
   "execution_count": null,
   "metadata": {
    "collapsed": true
   },
   "outputs": [],
   "source": []
  }
 ],
 "metadata": {
  "kernelspec": {
   "display_name": "Python 2",
   "language": "python",
   "name": "python2"
  },
  "language_info": {
   "codemirror_mode": {
    "name": "ipython",
    "version": 2
   },
   "file_extension": ".py",
   "mimetype": "text/x-python",
   "name": "python",
   "nbconvert_exporter": "python",
   "pygments_lexer": "ipython2",
   "version": "2.7.11"
  }
 },
 "nbformat": 4,
 "nbformat_minor": 0
}
